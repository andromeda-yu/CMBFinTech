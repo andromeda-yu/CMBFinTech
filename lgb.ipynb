{
 "cells": [
  {
   "cell_type": "code",
   "execution_count": null,
   "metadata": {},
   "outputs": [],
   "source": [
    "import numpy as np\n",
    "import pandas as pd\n",
    "import lightgbm as lgb\n",
    "from sklearn.model_selection import train_test_split\n",
    "from sklearn.preprocessing import OneHotEncoder,LabelEncoder\n",
    "from sklearn.preprocessing import PolynomialFeatures\n",
    "from scipy import sparse\n",
    "import re"
   ]
  },
  {
   "cell_type": "code",
   "execution_count": null,
   "metadata": {},
   "outputs": [],
   "source": [
    "path = '../CMB/0430/'"
   ]
  },
  {
   "cell_type": "code",
   "execution_count": null,
   "metadata": {
    "scrolled": true
   },
   "outputs": [],
   "source": [
    "beh = pd.read_csv(path+'train_beh.csv')\n",
    "tag = pd.read_csv(path+'train_tag.csv')\n",
    "trd = pd.read_csv(path+'train_trd.csv')"
   ]
  },
  {
   "cell_type": "code",
   "execution_count": null,
   "metadata": {},
   "outputs": [],
   "source": [
    "beh_a = pd.read_csv(path+'test_beh_a.csv')\n",
    "tag_a = pd.read_csv(path+'test_tag_a.csv')\n",
    "trd_a = pd.read_csv(path+'test_trd_a.csv')"
   ]
  },
  {
   "cell_type": "code",
   "execution_count": null,
   "metadata": {},
   "outputs": [],
   "source": [
    "beh_b = pd.read_csv(path+'test_beh_b.csv')\n",
    "tag_b = pd.read_csv(path+'test_tag_b.csv')\n",
    "trd_b = pd.read_csv(path+'test_trd_b.csv')"
   ]
  },
  {
   "cell_type": "code",
   "execution_count": null,
   "metadata": {},
   "outputs": [],
   "source": [
    "train = tag\n",
    "test = tag_a\n",
    "test['flag']=-1\n",
    "data=pd.concat([train,test])\n",
    "data = data.fillna('-1')"
   ]
  },
  {
   "cell_type": "code",
   "execution_count": null,
   "metadata": {},
   "outputs": [],
   "source": [
    "train_t = trd\n",
    "test_t = trd_a\n",
    "test_t['flag']=-1\n",
    "data_t=pd.concat([train_t,test_t])\n",
    "data_t=data_t.fillna(0)"
   ]
  },
  {
   "cell_type": "code",
   "execution_count": null,
   "metadata": {},
   "outputs": [],
   "source": [
    "train_b = beh\n",
    "test_b = beh_a\n",
    "test_b['flag']=-1\n",
    "data_b = pd.concat([train_b, test_b])"
   ]
  },
  {
   "cell_type": "code",
   "execution_count": null,
   "metadata": {},
   "outputs": [],
   "source": [
    "def function(string):\n",
    "    return bool(re.match('\\d{4}-\\d{2}-\\d{2} \\d{2}:\\d{2}:\\d{2}$', string))\n",
    "\n",
    "data_t['trx_tm'] = data_t['trx_tm'].apply(lambda x: '2019-07-01 00:00:00' if not function(str(x)) else x)\n",
    "data_b['page_tm'] = data_b['page_tm'].apply(lambda x: '2019-07-01 00:00:00' if not function(str(x)) else x)\n",
    "data_t['trx_day'] = data_t['trx_tm'].apply(lambda x:str(x).split()[0])\n",
    "data_t['trx_hour'] = data_t['trx_tm'].apply(lambda x:str(x).split()[1].split(':')[0])\n",
    "data_b['page_day'] = data_b['page_tm'].apply(lambda x:str(x).split()[0])\n",
    "data_b['page_hour'] = data_b['page_tm'].apply(lambda x:str(x).split()[1].split(':')[0])\n",
    "\n",
    "data_t['trx_tm'] = pd.to_datetime(data_t['trx_tm'], format ='%Y-%m-%d %H:%M:%S')\n",
    "data_b['page_tm'] = pd.to_datetime(data_b['page_tm'], format ='%Y-%m-%d %H:%M:%S')"
   ]
  },
  {
   "cell_type": "code",
   "execution_count": null,
   "metadata": {},
   "outputs": [],
   "source": [
    "#交易频率最高的支付方式 \n",
    "data_t_sta = data_t.groupby(['id', 'Dat_Flg3_Cd'], as_index=False).count()\n",
    "data_t_sta.sort_values('flag', ascending=False, inplace=True)\n",
    "data_t_sta = data_t_sta.groupby('id', as_index=False).first()\n",
    "data_t_sta = data_t_sta.loc[:, ['id', 'Dat_Flg3_Cd']]\n",
    "data_t_sta.rename(columns={'Dat_Flg3_Cd':'Fre_Trans_Flg3'}, inplace = True)\n",
    "data = pd.merge(data, data_t_sta, on='id', how=\"left\")\n",
    "data['Fre_Trans_Flg3'] = data['Fre_Trans_Flg3'].fillna('-1')"
   ]
  },
  {
   "cell_type": "code",
   "execution_count": null,
   "metadata": {},
   "outputs": [],
   "source": [
    "#收入频率最高的支付方式 \n",
    "data_t_sta = data_t[data_t['Dat_Flg1_Cd']=='C']\n",
    "data_t_sta = data_t_sta.groupby(['id', 'Dat_Flg3_Cd'], as_index=False).count()\n",
    "data_t_sta.sort_values('flag', ascending=False, inplace=True)\n",
    "data_t_sta = data_t_sta.groupby('id', as_index=False).first()\n",
    "data_t_sta = data_t_sta.loc[:, ['id', 'Dat_Flg3_Cd']]\n",
    "data_t_sta.rename(columns={'Dat_Flg3_Cd':'Fre_Inc_Flg3'}, inplace = True)\n",
    "data = pd.merge(data, data_t_sta, on='id', how=\"left\")\n",
    "data['Fre_Inc_Flg3'] = data['Fre_Inc_Flg3'].fillna('-1')"
   ]
  },
  {
   "cell_type": "code",
   "execution_count": null,
   "metadata": {},
   "outputs": [],
   "source": [
    "#支出频率最高的支付方式 \n",
    "data_t_sta = data_t[data_t['Dat_Flg1_Cd']=='B']\n",
    "data_t_sta = data_t_sta.groupby(['id', 'Dat_Flg3_Cd'], as_index=False).count()\n",
    "data_t_sta.sort_values('flag', ascending=False, inplace=True)\n",
    "data_t_sta = data_t_sta.groupby('id', as_index=False).first()\n",
    "data_t_sta = data_t_sta.loc[:, ['id', 'Dat_Flg3_Cd']]\n",
    "data_t_sta.rename(columns={'Dat_Flg3_Cd':'Fre_Pay_Flg3'}, inplace = True)\n",
    "data = pd.merge(data, data_t_sta, on='id', how=\"left\")\n",
    "data['Fre_Pay_Flg3'] = data['Fre_Pay_Flg3'].fillna('-1')"
   ]
  },
  {
   "cell_type": "code",
   "execution_count": null,
   "metadata": {},
   "outputs": [],
   "source": [
    "#使用支付方式A进行交易次数\n",
    "data_t_sta = data_t[data_t['Dat_Flg3_Cd']=='A']\n",
    "data_t_sta = data_t_sta.groupby('id', as_index=False).count()\n",
    "data_t_sta = data_t_sta.loc[:, ['id', 'Dat_Flg3_Cd']]\n",
    "data_t_sta.rename(columns={'Dat_Flg3_Cd':'Num_Trans_Flg3_A'}, inplace=True)\n",
    "data = pd.merge(data, data_t_sta, on='id', how=\"left\")\n",
    "data['Num_Trans_Flg3_A'] = data['Num_Trans_Flg3_A'].fillna(0)"
   ]
  },
  {
   "cell_type": "code",
   "execution_count": null,
   "metadata": {},
   "outputs": [],
   "source": [
    "#使用支付方式B进行交易次数\n",
    "data_t_sta = data_t[data_t['Dat_Flg3_Cd']=='B']\n",
    "data_t_sta = data_t_sta.groupby('id', as_index=False).count()\n",
    "data_t_sta = data_t_sta.loc[:, ['id', 'Dat_Flg3_Cd']]\n",
    "data_t_sta.rename(columns={'Dat_Flg3_Cd':'Num_Trans_Flg3_B'}, inplace=True)\n",
    "data = pd.merge(data, data_t_sta, on='id', how=\"left\")\n",
    "data['Num_Trans_Flg3_B'] = data['Num_Trans_Flg3_B'].fillna(0)"
   ]
  },
  {
   "cell_type": "code",
   "execution_count": null,
   "metadata": {},
   "outputs": [],
   "source": [
    "#使用支付方式C进行交易次数\n",
    "data_t_sta = data_t[data_t['Dat_Flg3_Cd']=='C']\n",
    "data_t_sta = data_t_sta.groupby('id', as_index=False).count()\n",
    "data_t_sta = data_t_sta.loc[:, ['id', 'Dat_Flg3_Cd']]\n",
    "data_t_sta.rename(columns={'Dat_Flg3_Cd':'Num_Trans_Flg3_C'}, inplace=True)\n",
    "data = pd.merge(data, data_t_sta, on='id', how=\"left\")\n",
    "data['Num_Trans_Flg3_C'] = data['Num_Trans_Flg3_C'].fillna(0)"
   ]
  },
  {
   "cell_type": "code",
   "execution_count": null,
   "metadata": {},
   "outputs": [],
   "source": [
    "#使用支付方式A进行收入次数\n",
    "data_t_sta = data_t[data_t['Dat_Flg1_Cd']=='C']\n",
    "data_t_sta = data_t_sta[data_t_sta['Dat_Flg3_Cd']=='A']\n",
    "data_t_sta = data_t_sta.groupby('id', as_index=False).count()\n",
    "data_t_sta = data_t_sta.loc[:, ['id', 'Dat_Flg3_Cd']]\n",
    "data_t_sta.rename(columns={'Dat_Flg3_Cd':'Num_Inc_Flg3_A'}, inplace=True)\n",
    "data = pd.merge(data, data_t_sta, on='id', how=\"left\")\n",
    "data['Num_Inc_Flg3_A'] = data['Num_Inc_Flg3_A'].fillna(0)"
   ]
  },
  {
   "cell_type": "code",
   "execution_count": null,
   "metadata": {},
   "outputs": [],
   "source": [
    "#使用支付方式B进行收入次数\n",
    "data_t_sta = data_t[data_t['Dat_Flg1_Cd']=='C']\n",
    "data_t_sta = data_t_sta[data_t_sta['Dat_Flg3_Cd']=='B']\n",
    "data_t_sta = data_t_sta.groupby('id', as_index=False).count()\n",
    "data_t_sta = data_t_sta.loc[:, ['id', 'Dat_Flg3_Cd']]\n",
    "data_t_sta.rename(columns={'Dat_Flg3_Cd':'Num_Inc_Flg3_B'}, inplace=True)\n",
    "data = pd.merge(data, data_t_sta, on='id', how=\"left\")\n",
    "data['Num_Inc_Flg3_B'] = data['Num_Inc_Flg3_B'].fillna(0)"
   ]
  },
  {
   "cell_type": "code",
   "execution_count": null,
   "metadata": {},
   "outputs": [],
   "source": [
    "#使用支付方式C进行收入次数\n",
    "data_t_sta = data_t[data_t['Dat_Flg1_Cd']=='C']\n",
    "data_t_sta = data_t_sta[data_t_sta['Dat_Flg3_Cd']=='C']\n",
    "data_t_sta = data_t_sta.groupby('id', as_index=False).count()\n",
    "data_t_sta = data_t_sta.loc[:, ['id', 'Dat_Flg3_Cd']]\n",
    "data_t_sta.rename(columns={'Dat_Flg3_Cd':'Num_Inc_Flg3_C'}, inplace=True)\n",
    "data = pd.merge(data, data_t_sta, on='id', how=\"left\")\n",
    "data['Num_Inc_Flg3_C'] = data['Num_Inc_Flg3_C'].fillna(0)"
   ]
  },
  {
   "cell_type": "code",
   "execution_count": null,
   "metadata": {},
   "outputs": [],
   "source": [
    "#使用支付方式A进行支出次数\n",
    "data_t_sta = data_t[data_t['Dat_Flg1_Cd']=='B']\n",
    "data_t_sta = data_t_sta[data_t_sta['Dat_Flg3_Cd']=='A']\n",
    "data_t_sta = data_t_sta.groupby('id', as_index=False).count()\n",
    "data_t_sta = data_t_sta.loc[:, ['id', 'Dat_Flg3_Cd']]\n",
    "data_t_sta.rename(columns={'Dat_Flg3_Cd':'Num_Pay_Flg3_A'}, inplace=True)\n",
    "data = pd.merge(data, data_t_sta, on='id', how=\"left\")\n",
    "data['Num_Pay_Flg3_A'] = data['Num_Pay_Flg3_A'].fillna(0)"
   ]
  },
  {
   "cell_type": "code",
   "execution_count": null,
   "metadata": {},
   "outputs": [],
   "source": [
    "#使用支付方式B进行支出次数\n",
    "data_t_sta = data_t[data_t['Dat_Flg1_Cd']=='B']\n",
    "data_t_sta = data_t_sta[data_t_sta['Dat_Flg3_Cd']=='B']\n",
    "data_t_sta = data_t_sta.groupby('id', as_index=False).count()\n",
    "data_t_sta = data_t_sta.loc[:, ['id', 'Dat_Flg3_Cd']]\n",
    "data_t_sta.rename(columns={'Dat_Flg3_Cd':'Num_Pay_Flg3_B'}, inplace=True)\n",
    "data = pd.merge(data, data_t_sta, on='id', how=\"left\")\n",
    "data['Num_Pay_Flg3_B'] = data['Num_Pay_Flg3_B'].fillna(0)"
   ]
  },
  {
   "cell_type": "code",
   "execution_count": null,
   "metadata": {},
   "outputs": [],
   "source": [
    "#使用支付方式C进行支出次数\n",
    "data_t_sta = data_t[data_t['Dat_Flg1_Cd']=='B']\n",
    "data_t_sta = data_t_sta[data_t_sta['Dat_Flg3_Cd']=='C']\n",
    "data_t_sta = data_t_sta.groupby('id',as_index=False).count()\n",
    "data_t_sta = data_t_sta.loc[:, ['id', 'Dat_Flg3_Cd']]\n",
    "data_t_sta.rename(columns={'Dat_Flg3_Cd':'Num_Pay_Flg3_C'}, inplace=True)\n",
    "data = pd.merge(data, data_t_sta, on='id', how=\"left\")\n",
    "data['Num_Pay_Flg3_C'] = data['Num_Pay_Flg3_C'].fillna(0)"
   ]
  },
  {
   "cell_type": "code",
   "execution_count": null,
   "metadata": {},
   "outputs": [],
   "source": [
    "#第一次使用支付方式A进行交易的收支方向/一级分类代码/二级分类代码/时间/金额\n",
    "data_t_sta = data_t[data_t['Dat_Flg3_Cd']=='A']\n",
    "data_t_sta.sort_values('trx_tm', ascending=True, inplace=True)\n",
    "data_t_sta = data_t_sta.groupby('id', as_index=False).first()\n",
    "data_t_sta = data_t_sta.loc[:, ['id', 'Dat_Flg1_Cd', 'Trx_Cod1_Cd', 'Trx_Cod2_Cd', 'trx_tm', 'cny_trx_amt']]\n",
    "data_t_sta.rename(columns={'Dat_Flg1_Cd':'First_Trans_Flg1_A', 'Trx_Cod1_Cd':'First_Trans_Cod1_A',\n",
    "                           'Trx_Cod2_Cd':'First_Trans_Cod2_A', 'trx_tm':'First_Trans_Time_A',\n",
    "                           'cny_trx_amt':'First_Trans_Amt_A'}, inplace=True)\n",
    "data_t_sta['First_Trans_Time_A'] = pd.to_numeric(data_t_sta['First_Trans_Time_A'])\n",
    "data = pd.merge(data, data_t_sta, on='id', how='left')\n",
    "data['First_Trans_Flg1_A'] = data['First_Trans_Flg1_A'].fillna('-1')\n",
    "data['First_Trans_Cod1_A'] = data['First_Trans_Cod1_A'].fillna(-1)\n",
    "data['First_Trans_Cod2_A'] = data['First_Trans_Cod2_A'].fillna(-1)\n",
    "data['First_Trans_Time_A'] = data['First_Trans_Time_A'].fillna(-1)\n",
    "data['First_Trans_Amt_A'] = data['First_Trans_Amt_A'].fillna(0)"
   ]
  },
  {
   "cell_type": "code",
   "execution_count": null,
   "metadata": {},
   "outputs": [],
   "source": [
    "#第一次使用支付方式B进行交易的收支方向/一级分类代码/二级分类代码/时间/金额\n",
    "data_t_sta = data_t[data_t['Dat_Flg3_Cd']=='B']\n",
    "data_t_sta.sort_values('trx_tm', ascending=True, inplace=True)\n",
    "data_t_sta = data_t_sta.groupby('id', as_index=False).first()\n",
    "data_t_sta = data_t_sta.loc[:, ['id', 'Dat_Flg1_Cd', 'Trx_Cod1_Cd', 'Trx_Cod2_Cd', 'trx_tm', 'cny_trx_amt']]\n",
    "data_t_sta.rename(columns={'Dat_Flg1_Cd':'First_Trans_Flg1_B', 'Trx_Cod1_Cd':'First_Trans_Cod1_B',\n",
    "                           'Trx_Cod2_Cd':'First_Trans_Cod2_B', 'trx_tm':'First_Trans_Time_B',\n",
    "                           'cny_trx_amt':'First_Trans_Amt_B'}, inplace=True)\n",
    "data_t_sta['First_Trans_Time_B'] = pd.to_numeric(data_t_sta['First_Trans_Time_B'])\n",
    "data = pd.merge(data, data_t_sta, on='id', how='left')\n",
    "data['First_Trans_Flg1_B'] = data['First_Trans_Flg1_B'].fillna('-1')\n",
    "data['First_Trans_Cod1_B'] = data['First_Trans_Cod1_B'].fillna(-1)\n",
    "data['First_Trans_Cod2_B'] = data['First_Trans_Cod2_B'].fillna(-1)\n",
    "data['First_Trans_Time_B'] = data['First_Trans_Time_B'].fillna(-1)\n",
    "data['First_Trans_Amt_B'] = data['First_Trans_Amt_B'].fillna(0)"
   ]
  },
  {
   "cell_type": "code",
   "execution_count": null,
   "metadata": {},
   "outputs": [],
   "source": [
    "#第一次使用支付方式C进行交易的收支方向/一级分类代码/二级分类代码/时间/金额\n",
    "data_t_sta = data_t[data_t['Dat_Flg3_Cd']=='C']\n",
    "data_t_sta.sort_values('trx_tm', ascending=True, inplace=True)\n",
    "data_t_sta = data_t_sta.groupby('id', as_index=False).first()\n",
    "data_t_sta = data_t_sta.loc[:, ['id', 'Dat_Flg1_Cd', 'Trx_Cod1_Cd', 'Trx_Cod2_Cd', 'trx_tm', 'cny_trx_amt']]\n",
    "data_t_sta.rename(columns={'Dat_Flg1_Cd':'First_Trans_Flg1_C', 'Trx_Cod1_Cd':'First_Trans_Cod1_C',\n",
    "                           'Trx_Cod2_Cd':'First_Trans_Cod2_C', 'trx_tm':'First_Trans_Time_C',\n",
    "                           'cny_trx_amt':'First_Trans_Amt_C'}, inplace=True)\n",
    "data_t_sta['First_Trans_Time_C'] = pd.to_numeric(data_t_sta['First_Trans_Time_C'])\n",
    "data = pd.merge(data, data_t_sta, on='id', how='left')\n",
    "data['First_Trans_Flg1_C'] = data['First_Trans_Flg1_C'].fillna('-1')\n",
    "data['First_Trans_Cod1_C'] = data['First_Trans_Cod1_C'].fillna(-1)\n",
    "data['First_Trans_Cod2_C'] = data['First_Trans_Cod2_C'].fillna(-1)\n",
    "data['First_Trans_Time_C'] = data['First_Trans_Time_C'].fillna(-1)\n",
    "data['First_Trans_Amt_C'] = data['First_Trans_Amt_C'].fillna(0)"
   ]
  },
  {
   "cell_type": "code",
   "execution_count": null,
   "metadata": {},
   "outputs": [],
   "source": [
    "#第一次使用支付方式A进行收入的一级分类代码/二级分类代码/时间/金额\n",
    "data_t_sta = data_t[data_t['Dat_Flg1_Cd']=='C']\n",
    "data_t_sta = data_t_sta[data_t_sta['Dat_Flg3_Cd']=='A']\n",
    "data_t_sta.sort_values('trx_tm', ascending=True, inplace=True)\n",
    "data_t_sta = data_t_sta.groupby('id', as_index=False).first()\n",
    "data_t_sta = data_t_sta.loc[:, ['id', 'Trx_Cod1_Cd', 'Trx_Cod2_Cd', 'trx_tm', 'cny_trx_amt']]\n",
    "data_t_sta.rename(columns={'Trx_Cod1_Cd':'First_Inc_Cod1_A', 'Trx_Cod2_Cd':'First_Inc_Cod2_A',\n",
    "                           'trx_tm':'First_Inc_Time_A', 'cny_trx_amt':'First_Inc_Amt_A'}, inplace=True)\n",
    "data_t_sta['First_Inc_Time_A'] = pd.to_numeric(data_t_sta['First_Inc_Time_A'])\n",
    "data = pd.merge(data, data_t_sta, on='id', how='left')\n",
    "data['First_Inc_Cod1_A'] = data['First_Inc_Cod1_A'].fillna(-1)\n",
    "data['First_Inc_Cod2_A'] = data['First_Inc_Cod2_A'].fillna(-1)\n",
    "data['First_Inc_Time_A'] = data['First_Inc_Time_A'].fillna(-1)\n",
    "data['First_Inc_Amt_A'] = data['First_Inc_Amt_A'].fillna(0)"
   ]
  },
  {
   "cell_type": "code",
   "execution_count": null,
   "metadata": {},
   "outputs": [],
   "source": [
    "#第一次使用支付方式B进行收入的一级分类代码/二级分类代码/时间/金额\n",
    "data_t_sta = data_t[data_t['Dat_Flg1_Cd']=='C']\n",
    "data_t_sta = data_t_sta[data_t_sta['Dat_Flg3_Cd']=='B']\n",
    "data_t_sta.sort_values('trx_tm', ascending=True, inplace=True)\n",
    "data_t_sta = data_t_sta.groupby('id', as_index=False).first()\n",
    "data_t_sta = data_t_sta.loc[:, ['id', 'Trx_Cod1_Cd', 'Trx_Cod2_Cd', 'trx_tm', 'cny_trx_amt']]\n",
    "data_t_sta.rename(columns={'Trx_Cod1_Cd':'First_Inc_Cod1_B', 'Trx_Cod2_Cd':'First_Inc_Cod2_B',\n",
    "                           'trx_tm':'First_Inc_Time_B', 'cny_trx_amt':'First_Inc_Amt_B'}, inplace=True)\n",
    "data_t_sta['First_Inc_Time_B'] = pd.to_numeric(data_t_sta['First_Inc_Time_B'])\n",
    "data = pd.merge(data, data_t_sta, on='id', how='left')\n",
    "data['First_Inc_Cod1_B'] = data['First_Inc_Cod1_B'].fillna(-1)\n",
    "data['First_Inc_Cod2_B'] = data['First_Inc_Cod2_B'].fillna(-1)\n",
    "data['First_Inc_Time_B'] = data['First_Inc_Time_B'].fillna(-1)\n",
    "data['First_Inc_Amt_B'] = data['First_Inc_Amt_B'].fillna(0)"
   ]
  },
  {
   "cell_type": "code",
   "execution_count": null,
   "metadata": {},
   "outputs": [],
   "source": [
    "#第一次使用支付方式C进行收入的一级分类代码/二级分类代码/时间/金额\n",
    "data_t_sta = data_t[data_t['Dat_Flg1_Cd']=='C']\n",
    "data_t_sta = data_t_sta[data_t_sta['Dat_Flg3_Cd']=='C']\n",
    "data_t_sta.sort_values('trx_tm', ascending=True, inplace=True)\n",
    "data_t_sta = data_t_sta.groupby('id', as_index=False).first()\n",
    "data_t_sta = data_t_sta.loc[:, ['id', 'Trx_Cod1_Cd', 'Trx_Cod2_Cd', 'trx_tm', 'cny_trx_amt']]\n",
    "data_t_sta.rename(columns={'Trx_Cod1_Cd':'First_Inc_Cod1_C', 'Trx_Cod2_Cd':'First_Inc_Cod2_C',\n",
    "                           'trx_tm':'First_Inc_Time_C', 'cny_trx_amt':'First_Inc_Amt_C'}, inplace=True)\n",
    "data_t_sta['First_Inc_Time_C'] = pd.to_numeric(data_t_sta['First_Inc_Time_C'])\n",
    "data = pd.merge(data, data_t_sta, on='id', how='left')\n",
    "data['First_Inc_Cod1_C'] = data['First_Inc_Cod1_C'].fillna(-1)\n",
    "data['First_Inc_Cod2_C'] = data['First_Inc_Cod2_C'].fillna(-1)\n",
    "data['First_Inc_Time_C'] = data['First_Inc_Time_C'].fillna(-1)\n",
    "data['First_Inc_Amt_C'] = data['First_Inc_Amt_C'].fillna(0)"
   ]
  },
  {
   "cell_type": "code",
   "execution_count": null,
   "metadata": {},
   "outputs": [],
   "source": [
    "#第一次使用支付方式A进行支出的一级分类代码/二级分类代码/时间/金额\n",
    "data_t_sta = data_t[data_t['Dat_Flg1_Cd']=='B']\n",
    "data_t_sta = data_t_sta[data_t_sta['Dat_Flg3_Cd']=='A']\n",
    "data_t_sta.sort_values('trx_tm', ascending=True, inplace=True)\n",
    "data_t_sta = data_t_sta.groupby('id', as_index=False).first()\n",
    "data_t_sta = data_t_sta.loc[:, ['id', 'Trx_Cod1_Cd', 'Trx_Cod2_Cd', 'trx_tm', 'cny_trx_amt']]\n",
    "data_t_sta.rename(columns={'Trx_Cod1_Cd':'First_Pay_Cod1_A', 'Trx_Cod2_Cd':'First_Pay_Cod2_A',\n",
    "                           'trx_tm':'First_Pay_Time_A', 'cny_trx_amt':'First_Pay_Amt_A'}, inplace=True)\n",
    "data_t_sta['First_Pay_Time_A'] = pd.to_numeric(data_t_sta['First_Pay_Time_A'])\n",
    "data = pd.merge(data, data_t_sta, on='id', how='left')\n",
    "data['First_Pay_Cod1_A'] = data['First_Pay_Cod1_A'].fillna(-1)\n",
    "data['First_Pay_Cod2_A'] = data['First_Pay_Cod2_A'].fillna(-1)\n",
    "data['First_Pay_Time_A'] = data['First_Pay_Time_A'].fillna(-1)\n",
    "data['First_Pay_Amt_A'] = data['First_Pay_Amt_A'].fillna(0)"
   ]
  },
  {
   "cell_type": "code",
   "execution_count": null,
   "metadata": {},
   "outputs": [],
   "source": [
    "#第一次使用支付方式B进行支出的一级分类代码/二级分类代码/时间/金额\n",
    "data_t_sta = data_t[data_t['Dat_Flg1_Cd']=='B']\n",
    "data_t_sta = data_t_sta[data_t_sta['Dat_Flg3_Cd']=='B']\n",
    "data_t_sta.sort_values('trx_tm', ascending=True, inplace=True)\n",
    "data_t_sta = data_t_sta.groupby('id', as_index=False).first()\n",
    "data_t_sta = data_t_sta.loc[:, ['id', 'Trx_Cod1_Cd', 'Trx_Cod2_Cd', 'trx_tm', 'cny_trx_amt']]\n",
    "data_t_sta.rename(columns={'Trx_Cod1_Cd':'First_Pay_Cod1_B', 'Trx_Cod2_Cd':'First_Pay_Cod2_B',\n",
    "                           'trx_tm':'First_Pay_Time_B', 'cny_trx_amt':'First_Pay_Amt_B'}, inplace=True)\n",
    "data_t_sta['First_Pay_Time_B'] = pd.to_numeric(data_t_sta['First_Pay_Time_B'])\n",
    "data = pd.merge(data, data_t_sta, on='id', how='left')\n",
    "data['First_Pay_Cod1_B'] = data['First_Pay_Cod1_B'].fillna(-1)\n",
    "data['First_Pay_Cod2_B'] = data['First_Pay_Cod2_B'].fillna(-1)\n",
    "data['First_Pay_Time_B'] = data['First_Pay_Time_B'].fillna(-1)\n",
    "data['First_Pay_Amt_B'] = data['First_Pay_Amt_B'].fillna(0)"
   ]
  },
  {
   "cell_type": "code",
   "execution_count": null,
   "metadata": {},
   "outputs": [],
   "source": [
    "#第一次使用支付方式C进行支出的一级分类代码/二级分类代码/时间/金额\n",
    "data_t_sta = data_t[data_t['Dat_Flg1_Cd']=='B']\n",
    "data_t_sta = data_t_sta[data_t_sta['Dat_Flg3_Cd']=='C']\n",
    "data_t_sta.sort_values('trx_tm', ascending=True, inplace=True)\n",
    "data_t_sta = data_t_sta.groupby('id', as_index=False).first()\n",
    "data_t_sta = data_t_sta.loc[:, ['id', 'Trx_Cod1_Cd', 'Trx_Cod2_Cd', 'trx_tm', 'cny_trx_amt']]\n",
    "data_t_sta.rename(columns={'Trx_Cod1_Cd':'First_Pay_Cod1_C', 'Trx_Cod2_Cd':'First_Pay_Cod2_C',\n",
    "                           'trx_tm':'First_Pay_Time_C', 'cny_trx_amt':'First_Pay_Amt_C'}, inplace=True)\n",
    "data_t_sta['First_Pay_Time_C'] = pd.to_numeric(data_t_sta['First_Pay_Time_C'])\n",
    "data = pd.merge(data, data_t_sta, on='id', how='left')\n",
    "data['First_Pay_Cod1_C'] = data['First_Pay_Cod1_C'].fillna(-1)\n",
    "data['First_Pay_Cod2_C'] = data['First_Pay_Cod2_C'].fillna(-1)\n",
    "data['First_Pay_Time_C'] = data['First_Pay_Time_C'].fillna(-1)\n",
    "data['First_Pay_Amt_C'] = data['First_Pay_Amt_C'].fillna(0)"
   ]
  },
  {
   "cell_type": "code",
   "execution_count": null,
   "metadata": {},
   "outputs": [],
   "source": [
    "#最后一次使用支付方式A进行交易的收支方向/一级分类代码/二级分类代码/时间/金额\n",
    "data_t_sta = data_t[data_t['Dat_Flg3_Cd']=='A']\n",
    "data_t_sta.sort_values('trx_tm', ascending=False, inplace=True)\n",
    "data_t_sta = data_t_sta.groupby('id', as_index=False).first()\n",
    "data_t_sta = data_t_sta.loc[:, ['id', 'Dat_Flg1_Cd', 'Trx_Cod1_Cd', 'Trx_Cod2_Cd', 'trx_tm', 'cny_trx_amt']]\n",
    "data_t_sta.rename(columns={'Dat_Flg1_Cd':'Last_Trans_Flg1_A', 'Trx_Cod1_Cd':'Last_Trans_Cod1_A',\n",
    "                           'Trx_Cod2_Cd':'Last_Trans_Cod2_A', 'trx_tm':'Last_Trans_Time_A',\n",
    "                           'cny_trx_amt':'Last_Trans_Amt_A'}, inplace=True)\n",
    "data_t_sta['Last_Trans_Time_A'] = pd.to_numeric(data_t_sta['Last_Trans_Time_A'])\n",
    "data = pd.merge(data, data_t_sta, on='id', how='left')\n",
    "data['Last_Trans_Flg1_A'] = data['Last_Trans_Flg1_A'].fillna('-1')\n",
    "data['Last_Trans_Cod1_A'] = data['Last_Trans_Cod1_A'].fillna(-1)\n",
    "data['Last_Trans_Cod2_A'] = data['Last_Trans_Cod2_A'].fillna(-1)\n",
    "data['Last_Trans_Time_A'] = data['Last_Trans_Time_A'].fillna(-1)\n",
    "data['Last_Trans_Amt_A'] = data['Last_Trans_Amt_A'].fillna(0)"
   ]
  },
  {
   "cell_type": "code",
   "execution_count": null,
   "metadata": {},
   "outputs": [],
   "source": [
    "#最后一次使用支付方式B进行交易的收支方向/一级分类代码/二级分类代码/时间/金额\n",
    "data_t_sta = data_t[data_t['Dat_Flg3_Cd']=='B']\n",
    "data_t_sta.sort_values('trx_tm', ascending=False, inplace=True)\n",
    "data_t_sta = data_t_sta.groupby('id', as_index=False).first()\n",
    "data_t_sta = data_t_sta.loc[:, ['id', 'Dat_Flg1_Cd', 'Trx_Cod1_Cd', 'Trx_Cod2_Cd', 'trx_tm', 'cny_trx_amt']]\n",
    "data_t_sta.rename(columns={'Dat_Flg1_Cd':'Last_Trans_Flg1_B', 'Trx_Cod1_Cd':'Last_Trans_Cod1_B',\n",
    "                           'Trx_Cod2_Cd':'Last_Trans_Cod2_B', 'trx_tm':'Last_Trans_Time_B',\n",
    "                           'cny_trx_amt':'Last_Trans_Amt_B'}, inplace=True)\n",
    "data_t_sta['Last_Trans_Time_B'] = pd.to_numeric(data_t_sta['Last_Trans_Time_B'])\n",
    "data = pd.merge(data, data_t_sta, on='id', how='left')\n",
    "data['Last_Trans_Flg1_B'] = data['Last_Trans_Flg1_B'].fillna('-1')\n",
    "data['Last_Trans_Cod1_B'] = data['Last_Trans_Cod1_B'].fillna(-1)\n",
    "data['Last_Trans_Cod2_B'] = data['Last_Trans_Cod2_B'].fillna(-1)\n",
    "data['Last_Trans_Time_B'] = data['Last_Trans_Time_B'].fillna(-1)\n",
    "data['Last_Trans_Amt_B'] = data['Last_Trans_Amt_B'].fillna(0)"
   ]
  },
  {
   "cell_type": "code",
   "execution_count": null,
   "metadata": {},
   "outputs": [],
   "source": [
    "#最后一次使用支付方式C进行交易的收支方向/一级分类代码/二级分类代码/时间/金额\n",
    "data_t_sta = data_t[data_t['Dat_Flg3_Cd']=='C']\n",
    "data_t_sta.sort_values('trx_tm', ascending=False, inplace=True)\n",
    "data_t_sta = data_t_sta.groupby('id', as_index=False).first()\n",
    "data_t_sta = data_t_sta.loc[:, ['id', 'Dat_Flg1_Cd', 'Trx_Cod1_Cd', 'Trx_Cod2_Cd', 'trx_tm', 'cny_trx_amt']]\n",
    "data_t_sta.rename(columns={'Dat_Flg1_Cd':'Last_Trans_Flg1_C', 'Trx_Cod1_Cd':'Last_Trans_Cod1_C',\n",
    "                           'Trx_Cod2_Cd':'Last_Trans_Cod2_C', 'trx_tm':'Last_Trans_Time_C',\n",
    "                           'cny_trx_amt':'Last_Trans_Amt_C'}, inplace=True)\n",
    "data_t_sta['Last_Trans_Time_C'] = pd.to_numeric(data_t_sta['Last_Trans_Time_C'])\n",
    "data = pd.merge(data, data_t_sta, on='id', how='left')\n",
    "data['Last_Trans_Flg1_C'] = data['Last_Trans_Flg1_C'].fillna('-1')\n",
    "data['Last_Trans_Cod1_C'] = data['Last_Trans_Cod1_C'].fillna(-1)\n",
    "data['Last_Trans_Cod2_C'] = data['Last_Trans_Cod2_C'].fillna(-1)\n",
    "data['Last_Trans_Time_C'] = data['Last_Trans_Time_C'].fillna(-1)\n",
    "data['Last_Trans_Amt_C'] = data['Last_Trans_Amt_C'].fillna(0)"
   ]
  },
  {
   "cell_type": "code",
   "execution_count": null,
   "metadata": {},
   "outputs": [],
   "source": [
    "#最后一次使用支付方式A进行收入的一级分类代码/二级分类代码/时间/金额\n",
    "data_t_sta = data_t[data_t['Dat_Flg1_Cd']=='C']\n",
    "data_t_sta = data_t_sta[data_t_sta['Dat_Flg3_Cd']=='A']\n",
    "data_t_sta.sort_values('trx_tm', ascending=False, inplace=True)\n",
    "data_t_sta = data_t_sta.groupby('id', as_index=False).first()\n",
    "data_t_sta = data_t_sta.loc[:, ['id', 'Trx_Cod1_Cd', 'Trx_Cod2_Cd', 'trx_tm', 'cny_trx_amt']]\n",
    "data_t_sta.rename(columns={'Trx_Cod1_Cd':'Last_Inc_Cod1_A', 'Trx_Cod2_Cd':'Last_Inc_Cod2_A',\n",
    "                           'trx_tm':'Last_Inc_Time_A', 'cny_trx_amt':'Last_Inc_Amt_A'}, inplace=True)\n",
    "data_t_sta['Last_Inc_Time_A'] = pd.to_numeric(data_t_sta['Last_Inc_Time_A'])\n",
    "data = pd.merge(data, data_t_sta, on='id', how='left')\n",
    "data['Last_Inc_Cod1_A'] = data['Last_Inc_Cod1_A'].fillna(-1)\n",
    "data['Last_Inc_Cod2_A'] = data['Last_Inc_Cod2_A'].fillna(-1)\n",
    "data['Last_Inc_Time_A'] = data['Last_Inc_Time_A'].fillna(-1)\n",
    "data['Last_Inc_Amt_A'] = data['Last_Inc_Amt_A'].fillna(0)"
   ]
  },
  {
   "cell_type": "code",
   "execution_count": null,
   "metadata": {},
   "outputs": [],
   "source": [
    "#最后一次使用支付方式B进行收入的一级分类代码/二级分类代码/时间/金额\n",
    "data_t_sta = data_t[data_t['Dat_Flg1_Cd']=='C']\n",
    "data_t_sta = data_t_sta[data_t_sta['Dat_Flg3_Cd']=='B']\n",
    "data_t_sta.sort_values('trx_tm', ascending=False, inplace=True)\n",
    "data_t_sta = data_t_sta.groupby('id', as_index=False).first()\n",
    "data_t_sta = data_t_sta.loc[:, ['id', 'Trx_Cod1_Cd', 'Trx_Cod2_Cd', 'trx_tm', 'cny_trx_amt']]\n",
    "data_t_sta.rename(columns={'Trx_Cod1_Cd':'Last_Inc_Cod1_B', 'Trx_Cod2_Cd':'Last_Inc_Cod2_B',\n",
    "                           'trx_tm':'Last_Inc_Time_B', 'cny_trx_amt':'Last_Inc_Amt_B'}, inplace=True)\n",
    "data_t_sta['Last_Inc_Time_B'] = pd.to_numeric(data_t_sta['Last_Inc_Time_B'])\n",
    "data = pd.merge(data, data_t_sta, on='id', how='left')\n",
    "data['Last_Inc_Cod1_B'] = data['Last_Inc_Cod1_B'].fillna(-1)\n",
    "data['Last_Inc_Cod2_B'] = data['Last_Inc_Cod2_B'].fillna(-1)\n",
    "data['Last_Inc_Time_B'] = data['Last_Inc_Time_B'].fillna(-1)\n",
    "data['Last_Inc_Amt_B'] = data['Last_Inc_Amt_B'].fillna(0)"
   ]
  },
  {
   "cell_type": "code",
   "execution_count": null,
   "metadata": {},
   "outputs": [],
   "source": [
    "#最后一次使用支付方式C进行收入的一级分类代码/二级分类代码/时间/金额\n",
    "data_t_sta = data_t[data_t['Dat_Flg1_Cd']=='C']\n",
    "data_t_sta = data_t_sta[data_t_sta['Dat_Flg3_Cd']=='C']\n",
    "data_t_sta.sort_values('trx_tm', ascending=False, inplace=True)\n",
    "data_t_sta = data_t_sta.groupby('id', as_index=False).first()\n",
    "data_t_sta = data_t_sta.loc[:, ['id', 'Trx_Cod1_Cd', 'Trx_Cod2_Cd', 'trx_tm', 'cny_trx_amt']]\n",
    "data_t_sta.rename(columns={'Trx_Cod1_Cd':'Last_Inc_Cod1_C', 'Trx_Cod2_Cd':'Last_Inc_Cod2_C',\n",
    "                           'trx_tm':'Last_Inc_Time_C', 'cny_trx_amt':'Last_Inc_Amt_C'}, inplace=True)\n",
    "data_t_sta['Last_Inc_Time_C'] = pd.to_numeric(data_t_sta['Last_Inc_Time_C'])\n",
    "data = pd.merge(data, data_t_sta, on='id', how='left')\n",
    "data['Last_Inc_Cod1_C'] = data['Last_Inc_Cod1_C'].fillna(-1)\n",
    "data['Last_Inc_Cod2_C'] = data['Last_Inc_Cod2_C'].fillna(-1)\n",
    "data['Last_Inc_Time_C'] = data['Last_Inc_Time_C'].fillna(-1)\n",
    "data['Last_Inc_Amt_C'] = data['Last_Inc_Amt_C'].fillna(0)"
   ]
  },
  {
   "cell_type": "code",
   "execution_count": null,
   "metadata": {},
   "outputs": [],
   "source": [
    "#最后一次使用支付方式A进行支出的一级分类代码/二级分类代码/时间/金额\n",
    "data_t_sta = data_t[data_t['Dat_Flg1_Cd']=='B']\n",
    "data_t_sta = data_t_sta[data_t_sta['Dat_Flg3_Cd']=='A']\n",
    "data_t_sta.sort_values('trx_tm', ascending=False, inplace=True)\n",
    "data_t_sta = data_t_sta.groupby('id', as_index=False).first()\n",
    "data_t_sta = data_t_sta.loc[:, ['id', 'Trx_Cod1_Cd', 'Trx_Cod2_Cd', 'trx_tm', 'cny_trx_amt']]\n",
    "data_t_sta.rename(columns={'Trx_Cod1_Cd':'Last_Pay_Cod1_A', 'Trx_Cod2_Cd':'Last_Pay_Cod2_A',\n",
    "                           'trx_tm':'Last_Pay_Time_A', 'cny_trx_amt':'Last_Pay_Amt_A'}, inplace=True)\n",
    "data_t_sta['Last_Pay_Time_A'] = pd.to_numeric(data_t_sta['Last_Pay_Time_A'])\n",
    "data = pd.merge(data, data_t_sta, on='id', how='left')\n",
    "data['Last_Pay_Cod1_A'] = data['Last_Pay_Cod1_A'].fillna(-1)\n",
    "data['Last_Pay_Cod2_A'] = data['Last_Pay_Cod2_A'].fillna(-1)\n",
    "data['Last_Pay_Time_A'] = data['Last_Pay_Time_A'].fillna(-1)\n",
    "data['Last_Pay_Amt_A'] = data['Last_Pay_Amt_A'].fillna(0)"
   ]
  },
  {
   "cell_type": "code",
   "execution_count": null,
   "metadata": {},
   "outputs": [],
   "source": [
    "#最后一次使用支付方式B进行支出的一级分类代码/二级分类代码/时间/金额\n",
    "data_t_sta = data_t[data_t['Dat_Flg1_Cd']=='B']\n",
    "data_t_sta = data_t_sta[data_t_sta['Dat_Flg3_Cd']=='B']\n",
    "data_t_sta.sort_values('trx_tm', ascending=False, inplace=True)\n",
    "data_t_sta = data_t_sta.groupby('id', as_index=False).first()\n",
    "data_t_sta = data_t_sta.loc[:, ['id', 'Trx_Cod1_Cd', 'Trx_Cod2_Cd', 'trx_tm', 'cny_trx_amt']]\n",
    "data_t_sta.rename(columns={'Trx_Cod1_Cd':'Last_Pay_Cod1_B', 'Trx_Cod2_Cd':'Last_Pay_Cod2_B',\n",
    "                           'trx_tm':'Last_Pay_Time_B', 'cny_trx_amt':'Last_Pay_Amt_B'}, inplace=True)\n",
    "data_t_sta['Last_Pay_Time_B'] = pd.to_numeric(data_t_sta['Last_Pay_Time_B'])\n",
    "data = pd.merge(data, data_t_sta, on='id', how='left')\n",
    "data['Last_Pay_Cod1_B'] = data['Last_Pay_Cod1_B'].fillna(-1)\n",
    "data['Last_Pay_Cod2_B'] = data['Last_Pay_Cod2_B'].fillna(-1)\n",
    "data['Last_Pay_Time_B'] = data['Last_Pay_Time_B'].fillna(-1)\n",
    "data['Last_Pay_Amt_B'] = data['Last_Pay_Amt_B'].fillna(0)"
   ]
  },
  {
   "cell_type": "code",
   "execution_count": null,
   "metadata": {},
   "outputs": [],
   "source": [
    "#最后一次使用支付方式C进行支出的一级分类代码/二级分类代码/时间/金额\n",
    "data_t_sta = data_t[data_t['Dat_Flg1_Cd']=='B']\n",
    "data_t_sta = data_t_sta[data_t_sta['Dat_Flg3_Cd']=='C']\n",
    "data_t_sta.sort_values('trx_tm', ascending=False, inplace=True)\n",
    "data_t_sta = data_t_sta.groupby('id', as_index=False).first()\n",
    "data_t_sta = data_t_sta.loc[:, ['id', 'Trx_Cod1_Cd', 'Trx_Cod2_Cd', 'trx_tm', 'cny_trx_amt']]\n",
    "data_t_sta.rename(columns={'Trx_Cod1_Cd':'Last_Pay_Cod1_C', 'Trx_Cod2_Cd':'Last_Pay_Cod2_C',\n",
    "                           'trx_tm':'Last_Pay_Time_C', 'cny_trx_amt':'Last_Pay_Amt_C'}, inplace=True)\n",
    "data_t_sta['Last_Pay_Time_C'] = pd.to_numeric(data_t_sta['Last_Pay_Time_C'])\n",
    "data = pd.merge(data, data_t_sta, on='id', how='left')\n",
    "data['Last_Pay_Cod1_C'] = data['Last_Pay_Cod1_C'].fillna(-1)\n",
    "data['Last_Pay_Cod2_C'] = data['Last_Pay_Cod2_C'].fillna(-1)\n",
    "data['Last_Pay_Time_C'] = data['Last_Pay_Time_C'].fillna(-1)\n",
    "data['Last_Pay_Amt_C'] = data['Last_Pay_Amt_C'].fillna(0)"
   ]
  },
  {
   "cell_type": "code",
   "execution_count": null,
   "metadata": {},
   "outputs": [],
   "source": [
    "#支付方式A在交易中占比\n",
    "data_t_sta = data_t.groupby('id', as_index=False).count()\n",
    "tmp = data_t[data_t['Dat_Flg3_Cd']=='A']\n",
    "tmp = tmp.groupby('id', as_index=False)['Dat_Flg3_Cd'].count()\n",
    "tmp.rename(columns={'Dat_Flg3_Cd':'Num_Trans_Flg3'}, inplace=True)\n",
    "data_t_sta = pd.merge(data_t_sta, tmp, on='id', how='left')\n",
    "data_t_sta['Num_Trans_Flg3'] = data_t_sta['Num_Trans_Flg3'].fillna(0)\n",
    "data_t_sta['Prop_Trans_Flg3_A'] = data_t_sta.apply(lambda x:0 if x['Num_Trans_Flg3']==0 else x['Num_Trans_Flg3']/x['Dat_Flg3_Cd'], axis=1)\n",
    "data_t_sta = data_t_sta.loc[:, ['id', 'Prop_Trans_Flg3_A']]\n",
    "data = pd.merge(data, data_t_sta, on='id', how='left')\n",
    "data['Prop_Trans_Flg3_A'] = data['Prop_Trans_Flg3_A'].fillna(0)"
   ]
  },
  {
   "cell_type": "code",
   "execution_count": null,
   "metadata": {},
   "outputs": [],
   "source": [
    "#支付方式B在交易中占比\n",
    "data_t_sta = data_t.groupby('id', as_index=False).count()\n",
    "tmp = data_t[data_t['Dat_Flg3_Cd']=='B']\n",
    "tmp = tmp.groupby('id', as_index=False)['Dat_Flg3_Cd'].count()\n",
    "tmp.rename(columns={'Dat_Flg3_Cd':'Num_Trans_Flg3'}, inplace=True)\n",
    "data_t_sta = pd.merge(data_t_sta, tmp, on='id', how='left')\n",
    "data_t_sta['Num_Trans_Flg3'] = data_t_sta['Num_Trans_Flg3'].fillna(0)\n",
    "data_t_sta['Prop_Trans_Flg3_B'] = data_t_sta.apply(lambda x:x['Num_Trans_Flg3']/x['Dat_Flg3_Cd'], axis=1)\n",
    "data_t_sta = data_t_sta.loc[:, ['id', 'Prop_Trans_Flg3_B']]\n",
    "data = pd.merge(data, data_t_sta, on='id', how='left')\n",
    "data['Prop_Trans_Flg3_B'] = data['Prop_Trans_Flg3_B'].fillna(0)"
   ]
  },
  {
   "cell_type": "code",
   "execution_count": null,
   "metadata": {},
   "outputs": [],
   "source": [
    "#支付方式C在交易中占比\n",
    "data_t_sta = data_t.groupby('id', as_index=False).count()\n",
    "tmp = data_t[data_t['Dat_Flg3_Cd']=='C']\n",
    "tmp = tmp.groupby('id', as_index=False)['Dat_Flg3_Cd'].count()\n",
    "tmp.rename(columns={'Dat_Flg3_Cd':'Num_Trans_Flg3'}, inplace=True)\n",
    "data_t_sta = pd.merge(data_t_sta, tmp, on='id', how='left')\n",
    "data_t_sta['Num_Trans_Flg3'] = data_t_sta['Num_Trans_Flg3'].fillna(0)\n",
    "data_t_sta['Prop_Trans_Flg3_C'] = data_t_sta.apply(lambda x:x['Num_Trans_Flg3']/x['Dat_Flg3_Cd'], axis=1)\n",
    "data_t_sta = data_t_sta.loc[:, ['id', 'Prop_Trans_Flg3_C']]\n",
    "data = pd.merge(data, data_t_sta, on='id', how='left')\n",
    "data['Prop_Trans_Flg3_C'] = data['Prop_Trans_Flg3_C'].fillna(0)"
   ]
  },
  {
   "cell_type": "code",
   "execution_count": null,
   "metadata": {},
   "outputs": [],
   "source": [
    "#支付方式A在收入中占比\n",
    "data_t_C = data_t[data_t['Dat_Flg1_Cd']=='C']\n",
    "data_t_sta = data_t_C.groupby('id', as_index=False).count()\n",
    "tmp = data_t_C[data_t_C['Dat_Flg3_Cd']=='A']\n",
    "tmp = tmp.groupby('id', as_index=False)['Dat_Flg3_Cd'].count()\n",
    "tmp.rename(columns={'Dat_Flg3_Cd':'Num_Inc_Flg3'}, inplace=True)\n",
    "data_t_sta = pd.merge(data_t_sta, tmp, on='id', how='left')\n",
    "data_t_sta['Num_Inc_Flg3'] = data_t_sta['Num_Inc_Flg3'].fillna(0)\n",
    "data_t_sta['Prop_Inc_Flg3_A'] = data_t_sta.apply(lambda x:x['Num_Inc_Flg3']/x['Dat_Flg3_Cd'], axis=1)\n",
    "data_t_sta = data_t_sta.loc[:, ['id', 'Prop_Inc_Flg3_A']]\n",
    "data = pd.merge(data, data_t_sta, on='id', how='left')\n",
    "data['Prop_Inc_Flg3_A'] = data['Prop_Inc_Flg3_A'].fillna(0)"
   ]
  },
  {
   "cell_type": "code",
   "execution_count": null,
   "metadata": {},
   "outputs": [],
   "source": [
    "#支付方式B在收入中占比\n",
    "data_t_C = data_t[data_t['Dat_Flg1_Cd']=='C']\n",
    "data_t_sta = data_t_C.groupby('id', as_index=False).count()\n",
    "tmp = data_t_C[data_t_C['Dat_Flg3_Cd']=='B']\n",
    "tmp = tmp.groupby('id', as_index=False)['Dat_Flg3_Cd'].count()\n",
    "tmp.rename(columns={'Dat_Flg3_Cd':'Num_Inc_Flg3'}, inplace=True)\n",
    "data_t_sta = pd.merge(data_t_sta, tmp, on='id', how='left')\n",
    "data_t_sta['Num_Inc_Flg3'] = data_t_sta['Num_Inc_Flg3'].fillna(0)\n",
    "data_t_sta['Prop_Inc_Flg3_B'] = data_t_sta.apply(lambda x:x['Num_Inc_Flg3']/x['Dat_Flg3_Cd'], axis=1)\n",
    "data_t_sta = data_t_sta.loc[:, ['id', 'Prop_Inc_Flg3_B']]\n",
    "data = pd.merge(data, data_t_sta, on='id', how='left')\n",
    "data['Prop_Inc_Flg3_B'] = data['Prop_Inc_Flg3_B'].fillna(0)"
   ]
  },
  {
   "cell_type": "code",
   "execution_count": null,
   "metadata": {},
   "outputs": [],
   "source": [
    "#支付方式C在收入中占比\n",
    "data_t_C = data_t[data_t['Dat_Flg1_Cd']=='C']\n",
    "data_t_sta = data_t_C.groupby('id', as_index=False).count()\n",
    "tmp = data_t_C[data_t_C['Dat_Flg3_Cd']=='C']\n",
    "tmp = tmp.groupby('id', as_index=False)['Dat_Flg3_Cd'].count()\n",
    "tmp.rename(columns={'Dat_Flg3_Cd':'Num_Inc_Flg3'}, inplace=True)\n",
    "data_t_sta = pd.merge(data_t_sta, tmp, on='id', how='left')\n",
    "data_t_sta['Num_Inc_Flg3'] = data_t_sta['Num_Inc_Flg3'].fillna(0)\n",
    "data_t_sta['Prop_Inc_Flg3_C'] = data_t_sta.apply(lambda x:x['Num_Inc_Flg3']/x['Dat_Flg3_Cd'], axis=1)\n",
    "data_t_sta = data_t_sta.loc[:, ['id', 'Prop_Inc_Flg3_C']]\n",
    "data = pd.merge(data, data_t_sta, on='id', how='left')\n",
    "data['Prop_Inc_Flg3_C'] = data['Prop_Inc_Flg3_C'].fillna(0)"
   ]
  },
  {
   "cell_type": "code",
   "execution_count": null,
   "metadata": {},
   "outputs": [],
   "source": [
    "#支付方式A在支出中占比\n",
    "data_t_C = data_t[data_t['Dat_Flg1_Cd']=='B']\n",
    "data_t_sta = data_t_C.groupby('id', as_index=False).count()\n",
    "tmp = data_t_C[data_t_C['Dat_Flg3_Cd']=='A']\n",
    "tmp = tmp.groupby('id', as_index=False)['Dat_Flg3_Cd'].count()\n",
    "tmp.rename(columns={'Dat_Flg3_Cd':'Num_Pay_Flg3'}, inplace=True)\n",
    "data_t_sta = pd.merge(data_t_sta, tmp, on='id', how='left')\n",
    "data_t_sta['Num_Pay_Flg3'] = data_t_sta['Num_Pay_Flg3'].fillna(0)\n",
    "data_t_sta['Prop_Pay_Flg3_A'] = data_t_sta.apply(lambda x:x['Num_Pay_Flg3']/x['Dat_Flg3_Cd'], axis=1)\n",
    "data_t_sta = data_t_sta.loc[:, ['id', 'Prop_Pay_Flg3_A']]\n",
    "data = pd.merge(data, data_t_sta, on='id', how='left')\n",
    "data['Prop_Pay_Flg3_A'] = data['Prop_Pay_Flg3_A'].fillna(0)"
   ]
  },
  {
   "cell_type": "code",
   "execution_count": null,
   "metadata": {},
   "outputs": [],
   "source": [
    "#支付方式B在支出中占比\n",
    "data_t_C = data_t[data_t['Dat_Flg1_Cd']=='B']\n",
    "data_t_sta = data_t_C.groupby('id', as_index=False).count()\n",
    "tmp = data_t_C[data_t_C['Dat_Flg3_Cd']=='B']\n",
    "tmp = tmp.groupby('id', as_index=False)['Dat_Flg3_Cd'].count()\n",
    "tmp.rename(columns={'Dat_Flg3_Cd':'Num_Pay_Flg3'}, inplace=True)\n",
    "data_t_sta = pd.merge(data_t_sta, tmp, on='id', how='left')\n",
    "data_t_sta['Num_Pay_Flg3'] = data_t_sta['Num_Pay_Flg3'].fillna(0)\n",
    "data_t_sta['Prop_Pay_Flg3_B'] = data_t_sta.apply(lambda x:x['Num_Pay_Flg3']/x['Dat_Flg3_Cd'], axis=1)\n",
    "data_t_sta = data_t_sta.loc[:, ['id', 'Prop_Pay_Flg3_B']]\n",
    "data = pd.merge(data, data_t_sta, on='id', how='left')\n",
    "data['Prop_Pay_Flg3_B'] = data['Prop_Pay_Flg3_B'].fillna(0)"
   ]
  },
  {
   "cell_type": "code",
   "execution_count": null,
   "metadata": {},
   "outputs": [],
   "source": [
    "#支付方式C在支出中占比\n",
    "data_t_C = data_t[data_t['Dat_Flg1_Cd']=='B']\n",
    "data_t_sta = data_t_C.groupby('id', as_index=False).count()\n",
    "tmp = data_t_C[data_t_C['Dat_Flg3_Cd']=='C']\n",
    "tmp = tmp.groupby('id', as_index=False)['Dat_Flg3_Cd'].count()\n",
    "tmp.rename(columns={'Dat_Flg3_Cd':'Num_Pay_Flg3'}, inplace=True)\n",
    "data_t_sta = pd.merge(data_t_sta, tmp, on='id', how='left')\n",
    "data_t_sta['Num_Pay_Flg3'] = data_t_sta['Num_Pay_Flg3'].fillna(0)\n",
    "data_t_sta['Prop_Pay_Flg3_C'] = data_t_sta.apply(lambda x:x['Num_Pay_Flg3']/x['Dat_Flg3_Cd'], axis=1)\n",
    "data_t_sta = data_t_sta.loc[:, ['id', 'Prop_Pay_Flg3_C']]\n",
    "data = pd.merge(data, data_t_sta, on='id', how='left')\n",
    "data['Prop_Pay_Flg3_C'] = data['Prop_Pay_Flg3_C'].fillna(0)"
   ]
  },
  {
   "cell_type": "code",
   "execution_count": null,
   "metadata": {},
   "outputs": [],
   "source": [
    "#总支出金额\n",
    "data_t_sta = data_t[data_t['Dat_Flg1_Cd']=='B']\n",
    "data_t_sta = data_t_sta.groupby('id', as_index=False)['cny_trx_amt'].sum()\n",
    "data_t_sta.rename(columns={'cny_trx_amt':'Pay_Amo_B'}, inplace = True)\n",
    "\n",
    "group_names = ['I', 'H', 'G', 'F', 'E', 'D', 'C', 'B', 'A']\n",
    "data_t_sta['Pay_Amo_B'] = pd.cut(data_t_sta['Pay_Amo_B'], [-100000000, -100000, -50000, -20000, -10000, -5000, -2000, -1000, -100, 0], labels=group_names)\n",
    "\n",
    "data = pd.merge(data, data_t_sta, on='id', how=\"left\")\n",
    "data['Pay_Amo_B'] = data['Pay_Amo_B'].fillna('A')"
   ]
  },
  {
   "cell_type": "code",
   "execution_count": null,
   "metadata": {},
   "outputs": [],
   "source": [
    "#历史最大支出金额\n",
    "data_t_sta = data_t[data_t['Dat_Flg1_Cd']=='B']\n",
    "data_t_sta = data_t_sta.groupby('id', as_index=False)['cny_trx_amt'].min()\n",
    "data_t_sta.rename(columns={'cny_trx_amt':'Max_Pay_Amo_B'}, inplace = True)\n",
    "data = pd.merge(data, data_t_sta, on='id', how=\"left\")\n",
    "data['Max_Pay_Amo_B'] = data['Max_Pay_Amo_B'].fillna(0)"
   ]
  },
  {
   "cell_type": "code",
   "execution_count": null,
   "metadata": {},
   "outputs": [],
   "source": [
    "#历史最小支出金额\n",
    "data_t_sta = data_t[data_t['Dat_Flg1_Cd']=='B']\n",
    "data_t_sta = data_t_sta.groupby('id', as_index=False)['cny_trx_amt'].max()\n",
    "data_t_sta.rename(columns={'cny_trx_amt':'Min_Pay_Amo_B'}, inplace = True)\n",
    "data = pd.merge(data, data_t_sta, on='id', how=\"left\")\n",
    "data['Min_Pay_Amo_B'] = data['Min_Pay_Amo_B'].fillna(0)"
   ]
  },
  {
   "cell_type": "code",
   "execution_count": null,
   "metadata": {},
   "outputs": [],
   "source": [
    "#平均每次支出\n",
    "data_t_sta = data_t[data_t['Dat_Flg1_Cd']=='B']\n",
    "data_t_sta = data_t_sta.groupby('id', as_index=False)['cny_trx_amt'].mean()\n",
    "data_t_sta.rename(columns={'cny_trx_amt':'Mean_Pay_Amo_B'}, inplace = True)\n",
    "data = pd.merge(data, data_t_sta, on='id', how=\"left\")\n",
    "data['Mean_Pay_Amo_B'] = data['Mean_Pay_Amo_B'].fillna(0)"
   ]
  },
  {
   "cell_type": "code",
   "execution_count": null,
   "metadata": {},
   "outputs": [],
   "source": [
    "#支出方差\n",
    "data_t_sta = data_t[data_t['Dat_Flg1_Cd']=='B']\n",
    "data_t_sta = data_t_sta.groupby('id', as_index=False)['cny_trx_amt'].var()\n",
    "data_t_sta.rename(columns={'cny_trx_amt':'Var_Pay_Amo_B'}, inplace = True)\n",
    "data_t_sta.loc[data_t_sta['Var_Pay_Amo_B']==0, 'Var_Pay_Amo_B'] = -1\n",
    "data = pd.merge(data, data_t_sta, on='id', how=\"left\")\n",
    "data['Var_Pay_Amo_B'] = data['Var_Pay_Amo_B'].fillna(-1)"
   ]
  },
  {
   "cell_type": "code",
   "execution_count": null,
   "metadata": {},
   "outputs": [],
   "source": [
    "#支出中位数\n",
    "data_t_sta = data_t[data_t['Dat_Flg1_Cd']=='B']\n",
    "data_t_sta = data_t_sta.groupby('id', as_index=False)['cny_trx_amt'].median()\n",
    "data_t_sta.rename(columns={'cny_trx_amt':'Med_Pay_Amo_B'}, inplace = True)\n",
    "data = pd.merge(data, data_t_sta, on='id', how=\"left\")\n",
    "data['Med_Pay_Amo_B'] = data['Med_Pay_Amo_B'].fillna(0)"
   ]
  },
  {
   "cell_type": "code",
   "execution_count": null,
   "metadata": {},
   "outputs": [],
   "source": [
    "#支出次数\n",
    "data_t_sta = data_t[data_t['Dat_Flg1_Cd']=='B']\n",
    "data_t_sta = data_t_sta.groupby('id', as_index=False).count()\n",
    "data_t_sta = data_t_sta.loc[:, ['id', 'Dat_Flg1_Cd']]\n",
    "data_t_sta.rename(columns={'Dat_Flg1_Cd':'Pay_Cou_B'}, inplace = True)\n",
    "data = pd.merge(data, data_t_sta, on='id', how=\"left\")\n",
    "data['Pay_Cou_B'] = data['Pay_Cou_B'].fillna(0)"
   ]
  },
  {
   "cell_type": "code",
   "execution_count": null,
   "metadata": {},
   "outputs": [],
   "source": [
    "#总收入金额\n",
    "data_t_sta = data_t[data_t['Dat_Flg1_Cd']=='C']\n",
    "data_t_sta = data_t_sta.groupby('id', as_index=False)['cny_trx_amt'].sum()\n",
    "data_t_sta.rename(columns={'cny_trx_amt':'Pay_Amo_C'}, inplace = True)\n",
    "\n",
    "group_names = ['A', 'B', 'C', 'D', 'E', 'F', 'G', 'H', 'I']\n",
    "data_t_sta['Pay_Amo_C'] = pd.cut(data_t_sta['Pay_Amo_C'], [0, 100, 1000, 2000, 5000, 10000, 20000, 50000, 100000, 100000000], labels=group_names)\n",
    "\n",
    "data = pd.merge(data, data_t_sta, on='id', how=\"left\")\n",
    "data['Pay_Amo_C'] = data['Pay_Amo_C'].fillna('A')"
   ]
  },
  {
   "cell_type": "code",
   "execution_count": null,
   "metadata": {},
   "outputs": [],
   "source": [
    "#历史最大收入金额\n",
    "data_t_sta = data_t[data_t['Dat_Flg1_Cd']=='C']\n",
    "data_t_sta = data_t_sta.groupby('id', as_index=False)['cny_trx_amt'].max()\n",
    "data_t_sta.rename(columns={'cny_trx_amt':'Max_Pay_Amo_C'}, inplace = True)\n",
    "data = pd.merge(data, data_t_sta, on='id', how=\"left\")\n",
    "data['Max_Pay_Amo_C'] = data['Max_Pay_Amo_C'].fillna(0)"
   ]
  },
  {
   "cell_type": "code",
   "execution_count": null,
   "metadata": {},
   "outputs": [],
   "source": [
    "#历史最小收入金额\n",
    "data_t_sta = data_t[data_t['Dat_Flg1_Cd']=='C']\n",
    "data_t_sta = data_t_sta.groupby('id', as_index=False)['cny_trx_amt'].min()\n",
    "data_t_sta.rename(columns={'cny_trx_amt':'Min_Pay_Amo_C'}, inplace = True)\n",
    "data = pd.merge(data, data_t_sta, on='id', how=\"left\")\n",
    "data['Min_Pay_Amo_C'] = data['Min_Pay_Amo_C'].fillna(0)"
   ]
  },
  {
   "cell_type": "code",
   "execution_count": null,
   "metadata": {},
   "outputs": [],
   "source": [
    "#平均每次收入\n",
    "data_t_sta = data_t[data_t['Dat_Flg1_Cd']=='C']\n",
    "data_t_sta = data_t_sta.groupby('id', as_index=False)['cny_trx_amt'].mean()\n",
    "data_t_sta.rename(columns={'cny_trx_amt':'Mean_Pay_Amo_C'}, inplace = True)\n",
    "data = pd.merge(data, data_t_sta, on='id', how=\"left\")\n",
    "data['Mean_Pay_Amo_C'] = data['Mean_Pay_Amo_C'].fillna(0)"
   ]
  },
  {
   "cell_type": "code",
   "execution_count": null,
   "metadata": {},
   "outputs": [],
   "source": [
    "#收入方差\n",
    "data_t_sta = data_t[data_t['Dat_Flg1_Cd']=='C']\n",
    "data_t_sta = data_t_sta.groupby('id', as_index=False)['cny_trx_amt'].var()\n",
    "data_t_sta.rename(columns={'cny_trx_amt':'Var_Pay_Amo_C'}, inplace = True)\n",
    "data_t_sta.loc[data_t_sta['Var_Pay_Amo_C']==0, 'Var_Pay_Amo_C'] = -1\n",
    "data = pd.merge(data, data_t_sta, on='id', how=\"left\")\n",
    "data['Var_Pay_Amo_C'] = data['Var_Pay_Amo_C'].fillna(-1)"
   ]
  },
  {
   "cell_type": "code",
   "execution_count": null,
   "metadata": {},
   "outputs": [],
   "source": [
    "#收入中位数\n",
    "data_t_sta = data_t[data_t['Dat_Flg1_Cd']=='C']\n",
    "data_t_sta = data_t_sta.groupby('id', as_index=False)['cny_trx_amt'].median()\n",
    "data_t_sta.rename(columns={'cny_trx_amt':'Med_Pay_Amo_C'}, inplace = True)\n",
    "data = pd.merge(data, data_t_sta, on='id', how=\"left\")\n",
    "data['Med_Pay_Amo_C'] = data['Med_Pay_Amo_C'].fillna(0)"
   ]
  },
  {
   "cell_type": "code",
   "execution_count": null,
   "metadata": {},
   "outputs": [],
   "source": [
    "#收入次数\n",
    "data_t_sta = data_t[data_t['Dat_Flg1_Cd']=='C']\n",
    "data_t_sta = data_t_sta.groupby('id', as_index=False).count()\n",
    "data_t_sta = data_t_sta.loc[:, ['id', 'Dat_Flg1_Cd']]\n",
    "data_t_sta.rename(columns={'Dat_Flg1_Cd':'Pay_Cou_C'}, inplace = True)\n",
    "data = pd.merge(data, data_t_sta, on='id', how=\"left\")\n",
    "data['Pay_Cou_C'] = data['Pay_Cou_C'].fillna(0)"
   ]
  },
  {
   "cell_type": "code",
   "execution_count": null,
   "metadata": {},
   "outputs": [],
   "source": [
    "#剩余资产\n",
    "data_t_sta = data_t.groupby('id', as_index=False)['cny_trx_amt'].sum()\n",
    "data_t_sta.rename(columns={'cny_trx_amt':'Res_Aset'}, inplace = True)\n",
    "data = pd.merge(data, data_t_sta, on='id', how=\"left\")\n",
    "data['Res_Aset'] = data['Res_Aset'].fillna(0)"
   ]
  },
  {
   "cell_type": "code",
   "execution_count": null,
   "metadata": {},
   "outputs": [],
   "source": [
    "#收入最高分类等级\n",
    "data_t_sta = data_t[data_t['Dat_Flg1_Cd']=='C']\n",
    "data_t_sta = data_t_sta.groupby('id', as_index=False)['Trx_Cod2_Cd'].max()\n",
    "data_t_sta.rename(columns={'Trx_Cod2_Cd':'Max_Trx_Cod2_Cd_C'}, inplace = True)\n",
    "data = pd.merge(data, data_t_sta, on='id', how=\"left\")\n",
    "data['Max_Trx_Cod2_Cd_C'] = data['Max_Trx_Cod2_Cd_C'].fillna('-1')"
   ]
  },
  {
   "cell_type": "code",
   "execution_count": null,
   "metadata": {},
   "outputs": [],
   "source": [
    "#收入最低分类等级\n",
    "data_t_sta = data_t[data_t['Dat_Flg1_Cd']=='C']\n",
    "data_t_sta = data_t_sta.groupby('id', as_index=False)['Trx_Cod2_Cd'].min()\n",
    "data_t_sta.rename(columns={'Trx_Cod2_Cd':'Min_Trx_Cod2_Cd_C'}, inplace = True)\n",
    "data = pd.merge(data, data_t_sta, on='id', how=\"left\")\n",
    "data['Min_Trx_Cod2_Cd_C'] = data['Min_Trx_Cod2_Cd_C'].fillna('-1')"
   ]
  },
  {
   "cell_type": "code",
   "execution_count": null,
   "metadata": {},
   "outputs": [],
   "source": [
    "#支出最高分类等级 \n",
    "data_t_sta = data_t[data_t['Dat_Flg1_Cd']=='B']\n",
    "data_t_sta = data_t_sta.groupby('id', as_index=False)['Trx_Cod2_Cd'].max()\n",
    "data_t_sta.rename(columns={'Trx_Cod2_Cd':'Max_Trx_Cod2_Cd_B'}, inplace = True)\n",
    "data = pd.merge(data, data_t_sta, on='id', how=\"left\")\n",
    "data['Max_Trx_Cod2_Cd_B'] = data['Max_Trx_Cod2_Cd_B'].fillna('-1')"
   ]
  },
  {
   "cell_type": "code",
   "execution_count": null,
   "metadata": {},
   "outputs": [],
   "source": [
    "#支出最低分类等级 \n",
    "data_t_sta = data_t[data_t['Dat_Flg1_Cd']=='B']\n",
    "data_t_sta = data_t_sta.groupby('id', as_index=False)['Trx_Cod2_Cd'].min()\n",
    "data_t_sta.rename(columns={'Trx_Cod2_Cd':'Min_Trx_Cod2_Cd_B'}, inplace = True)\n",
    "data = pd.merge(data, data_t_sta, on='id', how=\"left\")\n",
    "data['Min_Trx_Cod2_Cd_B'] = data['Min_Trx_Cod2_Cd_B'].fillna('-1')"
   ]
  },
  {
   "cell_type": "code",
   "execution_count": null,
   "metadata": {
    "scrolled": true
   },
   "outputs": [],
   "source": [
    "#最常见收入分类等级 \n",
    "data_t_sta = data_t[data_t['Dat_Flg1_Cd'] == 'C']\n",
    "data_t_sta = data_t.groupby(['id', 'Trx_Cod1_Cd'], as_index=False).count()\n",
    "data_t_sta = data_t_sta.sort_values('flag', ascending=False)\n",
    "data_t_sta = data_t_sta.groupby('id').first().reset_index()\n",
    "data_t_sta = data_t_sta.loc[:, ['id', 'Trx_Cod1_Cd']]\n",
    "data_t_sta.rename(columns={'Trx_Cod1_Cd':'Fre_Trx_Cod1_Cd_C'}, inplace = True)\n",
    "data = pd.merge(data, data_t_sta, on='id', how=\"left\")\n",
    "data['Fre_Trx_Cod1_Cd_C'] = data['Fre_Trx_Cod1_Cd_C'].fillna('-1')"
   ]
  },
  {
   "cell_type": "code",
   "execution_count": null,
   "metadata": {},
   "outputs": [],
   "source": [
    "#最常见支出分类等级 \n",
    "data_t_sta = data_t[data_t['Dat_Flg1_Cd'] == 'B']\n",
    "data_t_sta = data_t.groupby(['id', 'Trx_Cod1_Cd'], as_index=False).count()\n",
    "data_t_sta = data_t_sta.sort_values('flag', ascending=False)\n",
    "data_t_sta = data_t_sta.groupby('id').first().reset_index()\n",
    "data_t_sta = data_t_sta.loc[:, ['id', 'Trx_Cod1_Cd']]\n",
    "data_t_sta.rename(columns={'Trx_Cod1_Cd':'Fre_Trx_Cod1_Cd_B'}, inplace = True)\n",
    "data = pd.merge(data, data_t_sta, on='id', how=\"left\")\n",
    "data['Fre_Trx_Cod1_Cd_B'] = data['Fre_Trx_Cod1_Cd_B'].fillna('-1')"
   ]
  },
  {
   "cell_type": "code",
   "execution_count": null,
   "metadata": {},
   "outputs": [],
   "source": [
    "# 活跃时间\n",
    "def function(a,b):\n",
    "    return a-b\n",
    "\n",
    "data_t.sort_values('trx_tm', ascending=True, inplace=True)\n",
    "firstTime = data_t.groupby('id', as_index=False).first()\n",
    "firstTime['ddl'] = pd.to_datetime('2019-07-01 00:00:00', format='%Y-%m-%d %H:%M:%S')\n",
    "firstTime['Tim_Dif'] = firstTime.apply(lambda x:function(x['ddl'],x['trx_tm']),axis=1)\n",
    "timedif  = firstTime.loc[:, ['id', 'Tim_Dif']]\n",
    "timedif = timedif.fillna(0)\n",
    "timedif['Tim_Dif'] = timedif['Tim_Dif'].astype('timedelta64[s]').astype(int)\n",
    "data = pd.merge(data, timedif, on='id', how=\"left\")\n",
    "data['Tim_Dif'] = data['Tim_Dif'].fillna(0)"
   ]
  },
  {
   "cell_type": "code",
   "execution_count": null,
   "metadata": {},
   "outputs": [],
   "source": [
    "# 有支出日期数量\n",
    "data_t_sta = data_t[data_t['Dat_Flg1_Cd']=='B']\n",
    "data_t_sta = data_t.groupby(['id', 'trx_day'], as_index=False).count()\n",
    "data_t_sta = data_t_sta.groupby('id', as_index=False).count()\n",
    "data_t_sta.rename(columns={'trx_day': 'Num_Tran_Day_B'}, inplace=True)\n",
    "data_t_sta = data_t_sta.loc[:, ['id', 'Num_Tran_Day_B']]\n",
    "data = pd.merge(data, data_t_sta, on='id', how='left')\n",
    "data['Num_Tran_Day_B'] = data['Num_Tran_Day_B'].fillna(0)"
   ]
  },
  {
   "cell_type": "code",
   "execution_count": null,
   "metadata": {},
   "outputs": [],
   "source": [
    "# 有收入日期数量\n",
    "data_t_sta = data_t[data_t['Dat_Flg1_Cd']=='C']\n",
    "data_t_sta = data_t.groupby(['id', 'trx_day'], as_index=False).count()\n",
    "data_t_sta = data_t_sta.groupby('id', as_index=False).count()\n",
    "data_t_sta.rename(columns={'trx_day': 'Num_Tran_Day_C'}, inplace=True)\n",
    "data_t_sta = data_t_sta.loc[:, ['id', 'Num_Tran_Day_C']]\n",
    "data = pd.merge(data, data_t_sta, on='id', how='left')\n",
    "data['Num_Tran_Day_C'] = data['Num_Tran_Day_C'].fillna(0)"
   ]
  },
  {
   "cell_type": "code",
   "execution_count": null,
   "metadata": {},
   "outputs": [],
   "source": [
    "#平均收入间隔时间\n",
    "def function(a,b,c):\n",
    "    return (a-b)/c\n",
    "\n",
    "data_t_C = data_t[data_t['Dat_Flg1_Cd'] == 'C']\n",
    "\n",
    "data_t_C.sort_values('trx_tm', ascending=True, inplace=True)\n",
    "firstTime = data_t_C.groupby('id', as_index=False).first()\n",
    "\n",
    "data_t_C.sort_values('trx_tm', ascending=False, inplace=True)\n",
    "lastTime = data_t_C.groupby('id', as_index=False).first()\n",
    "lastTime = lastTime.loc[:,['id', 'trx_tm']]\n",
    "lastTime.rename(columns={'trx_tm':'Las_Tim'}, inplace = True)\n",
    "\n",
    "firstTime = pd.merge(firstTime, lastTime, on='id', how='left')\n",
    "\n",
    "data_t_C['count'] = 1\n",
    "Count = data_t_C.groupby('id', as_index=False)['count'].count()\n",
    "firstTime = pd.merge(firstTime, Count, on='id', how='left')\n",
    "\n",
    "firstTime['Ave_Inc_Int'] = firstTime.apply(lambda x:function(x['Las_Tim'], x['trx_tm'], x['count']),axis=1)\n",
    "aveInt = firstTime.loc[:,['id', 'Ave_Inc_Int']]\n",
    "aveInt['Ave_Inc_Int'] = aveInt['Ave_Inc_Int'].astype('timedelta64[h]').astype(int)\n",
    "aveInt.loc[aveInt['Ave_Inc_Int']<=0, 'Ave_Inc_Int'] = -1\n",
    "data = pd.merge(data, aveInt, on='id', how='left')\n",
    "data['Ave_Inc_Int']=data['Ave_Inc_Int'].fillna(-1)"
   ]
  },
  {
   "cell_type": "code",
   "execution_count": null,
   "metadata": {},
   "outputs": [],
   "source": [
    "#平均支出间隔时间\n",
    "def function(a,b,c):\n",
    "    return (a-b)/c\n",
    "\n",
    "data_t_C = data_t[data_t['Dat_Flg1_Cd'] == 'B']\n",
    "data_t_C.sort_values('trx_tm', ascending=True, inplace=True)\n",
    "firstTime = data_t_C.groupby('id', as_index=False).first()\n",
    "data_t_C.sort_values('trx_tm', ascending=False, inplace=True)\n",
    "lastTime = data_t_C.groupby('id', as_index=False).first()\n",
    "lastTime = lastTime.loc[:,['id', 'trx_tm']]\n",
    "lastTime.rename(columns={'trx_tm':'Las_Tim'}, inplace = True)\n",
    "firstTime = pd.merge(firstTime, lastTime, on='id', how='left')\n",
    "data_t_C['count'] = 1\n",
    "Count = data_t_C.groupby('id', as_index=False)['count'].count()\n",
    "firstTime = pd.merge(firstTime, Count, on='id', how='left')\n",
    "firstTime['Ave_Pay_Int'] = firstTime.apply(lambda x:function(x['Las_Tim'], x['trx_tm'], x['count']),axis=1)\n",
    "aveInt = firstTime.loc[:,['id', 'Ave_Pay_Int']]\n",
    "aveInt['Ave_Pay_Int'] = aveInt['Ave_Pay_Int'].astype('timedelta64[h]').astype(int)\n",
    "aveInt.loc[aveInt['Ave_Pay_Int']<=0, 'Ave_Pay_Int'] = -1\n",
    "data = pd.merge(data, aveInt, on='id', how='left')\n",
    "data['Ave_Pay_Int']=data['Ave_Pay_Int'].fillna(-1)"
   ]
  },
  {
   "cell_type": "code",
   "execution_count": null,
   "metadata": {},
   "outputs": [],
   "source": [
    "#用户最后一次支出时间/金额/一级代码/二级代码/交易方式\n",
    "data_t_sta = data_t[data_t['Dat_Flg1_Cd']=='B']\n",
    "data_t_sta.sort_values('trx_tm', ascending=False, inplace=True)\n",
    "data_t_sta = data_t_sta.groupby('id', as_index=False).first()\n",
    "data_t_sta = data_t_sta.loc[:, ['id', 'trx_tm', 'cny_trx_amt', 'Trx_Cod1_Cd', 'Trx_Cod2_Cd', 'Dat_Flg3_Cd']]\n",
    "data_t_sta.rename(columns={'trx_tm':'Last_Pay_Time', 'cny_trx_amt':'Last_Pay_Amt', 'Trx_Cod1_Cd':'Last_Pay_Cod1',\n",
    "                           'Trx_Cod2_Cd':'Last_Pay_Cod2', 'Dat_Flg3_Cd':'Last_Pay_Flg3'}, inplace=True)\n",
    "data_t_sta['Last_Pay_Time'] = pd.to_numeric(data_t_sta['Last_Pay_Time'])\n",
    "data = pd.merge(data, data_t_sta, on='id', how='left')\n",
    "data['Last_Pay_Time'] = data['Last_Pay_Time'].fillna(-1)\n",
    "data['Last_Pay_Amt'] = data['Last_Pay_Amt'].fillna(0)\n",
    "data['Last_Pay_Cod1'] = data['Last_Pay_Cod1'].fillna('-1')\n",
    "data['Last_Pay_Cod2'] = data['Last_Pay_Cod2'].fillna('-1')\n",
    "data['Last_Pay_Flg3'] = data['Last_Pay_Flg3'].fillna('-1')"
   ]
  },
  {
   "cell_type": "code",
   "execution_count": null,
   "metadata": {},
   "outputs": [],
   "source": [
    "#用户最后一次收入时间/金额/一级代码/二级代码/交易方式\n",
    "data_t_sta = data_t[data_t['Dat_Flg1_Cd']=='C']\n",
    "data_t_sta.sort_values('trx_tm', ascending=False, inplace=True)\n",
    "data_t_sta = data_t_sta.groupby('id', as_index=False).first()\n",
    "data_t_sta = data_t_sta.loc[:, ['id', 'trx_tm', 'cny_trx_amt', 'Trx_Cod1_Cd', 'Trx_Cod2_Cd', 'Dat_Flg3_Cd']]\n",
    "data_t_sta.rename(columns={'trx_tm':'Last_Inc_Time', 'cny_trx_amt':'Last_Inc_Amt', 'Trx_Cod1_Cd':'Last_Inc_Cod1',\n",
    "                           'Trx_Cod2_Cd':'Last_Inc_Cod2', 'Dat_Flg3_Cd':'Last_Inc_Flg3'}, inplace=True)\n",
    "data_t_sta['Last_Inc_Time'] = pd.to_numeric(data_t_sta['Last_Inc_Time'])\n",
    "data = pd.merge(data, data_t_sta, on='id', how='left')\n",
    "data['Last_Inc_Time'] = data['Last_Inc_Time'].fillna(-1)\n",
    "data['Last_Inc_Amt'] = data['Last_Inc_Amt'].fillna(0)\n",
    "data['Last_Inc_Cod1'] = data['Last_Inc_Cod1'].fillna('-1')\n",
    "data['Last_Inc_Cod2'] = data['Last_Inc_Cod2'].fillna('-1')\n",
    "data['Last_Inc_Flg3'] = data['Last_Inc_Flg3'].fillna('-1')"
   ]
  },
  {
   "cell_type": "code",
   "execution_count": null,
   "metadata": {},
   "outputs": [],
   "source": [
    "#用户第一次支出时间/金额/一级代码/二级代码/交易方式\n",
    "data_t_sta = data_t[data_t['Dat_Flg1_Cd']=='B']\n",
    "data_t_sta.sort_values('trx_tm', ascending=True, inplace=True)\n",
    "data_t_sta = data_t_sta.groupby('id', as_index=False).first()\n",
    "data_t_sta = data_t_sta.loc[:, ['id', 'trx_tm', 'cny_trx_amt', 'Trx_Cod1_Cd', 'Trx_Cod2_Cd', 'Dat_Flg3_Cd']]\n",
    "data_t_sta.rename(columns={'trx_tm':'First_Pay_Time', 'cny_trx_amt':'First_Pay_Amt', 'Trx_Cod1_Cd':'First_Pay_Cod1', \n",
    "                           'Trx_Cod2_Cd':'First_Pay_Cod2', 'Dat_Flg3_Cd':'First_Pay_Flg3'}, inplace=True)\n",
    "data_t_sta['First_Pay_Time'] = pd.to_numeric(data_t_sta['First_Pay_Time'])\n",
    "data = pd.merge(data, data_t_sta, on='id', how='left')\n",
    "data['First_Pay_Time'] = data['First_Pay_Time'].fillna(-1)\n",
    "data['First_Pay_Amt'] = data['First_Pay_Amt'].fillna(0)\n",
    "data['First_Pay_Cod1'] = data['First_Pay_Cod1'].fillna('-1')\n",
    "data['First_Pay_Cod2'] = data['First_Pay_Cod2'].fillna('-1')\n",
    "data['First_Pay_Flg3'] = data['First_Pay_Flg3'].fillna('-1')"
   ]
  },
  {
   "cell_type": "code",
   "execution_count": null,
   "metadata": {},
   "outputs": [],
   "source": [
    "#用户第一次收入时间/金额/一级代码/二级代码/交易方式\n",
    "data_t_sta = data_t[data_t['Dat_Flg1_Cd']=='C']\n",
    "data_t_sta.sort_values('trx_tm', ascending=True, inplace=True)\n",
    "data_t_sta = data_t_sta.groupby('id', as_index=False).first()\n",
    "data_t_sta = data_t_sta.loc[:, ['id', 'trx_tm', 'cny_trx_amt', 'Trx_Cod1_Cd', 'Trx_Cod2_Cd', 'Dat_Flg3_Cd']]\n",
    "data_t_sta.rename(columns={'trx_tm':'First_Inc_Time', 'cny_trx_amt':'First_Inc_Amt', 'Trx_Cod1_Cd':'First_Inc_Cod1',\n",
    "                           'Trx_Cod2_Cd':'First_Inc_Cod2', 'Dat_Flg3_Cd':'First_Inc_Flg3'}, inplace=True)\n",
    "data_t_sta['First_Inc_Time'] = pd.to_numeric(data_t_sta['First_Inc_Time'])\n",
    "\n",
    "group_names = ['A', 'B', 'C', 'D', 'E', 'F', 'G', 'H', 'I']\n",
    "data_t_sta['First_Inc_Amt'] = pd.cut(data_t_sta['First_Inc_Amt'], [0, 10, 100, 200, 500, 1000, 2000, 5000, 10000, 100000000], labels=group_names)\n",
    "\n",
    "data = pd.merge(data, data_t_sta, on='id', how='left')\n",
    "data['First_Inc_Time'] = data['First_Inc_Time'].fillna(-1)\n",
    "data['First_Inc_Amt'] = data['First_Inc_Amt'].fillna('A')\n",
    "data['First_Inc_Cod1'] = data['First_Inc_Cod1'].fillna('-1')\n",
    "data['First_Inc_Cod2'] = data['First_Inc_Cod2'].fillna('-1')\n",
    "data['First_Inc_Flg3'] = data['First_Inc_Flg3'].fillna('-1')"
   ]
  },
  {
   "cell_type": "code",
   "execution_count": null,
   "metadata": {},
   "outputs": [],
   "source": [
    "# 用户最后一次交易收支方向\n",
    "data_t.sort_values('trx_tm', ascending=False, inplace=True)\n",
    "data_t_sta = data_t.groupby('id', as_index=False).first()\n",
    "data_t_sta = data_t_sta.loc[:, ['id', 'Dat_Flg1_Cd']]\n",
    "data_t_sta.rename(columns={'Dat_Flg1_Cd':'Last_Trans_Flg1'}, inplace=True)\n",
    "data = pd.merge(data, data_t_sta, on='id', how='left')\n",
    "data['Last_Trans_Flg1'] = data['Last_Trans_Flg1'].fillna('-1')"
   ]
  },
  {
   "cell_type": "code",
   "execution_count": null,
   "metadata": {},
   "outputs": [],
   "source": [
    "# 用户第一次交易收支方向\n",
    "data_t.sort_values('trx_tm', ascending=True, inplace=True)\n",
    "data_t_sta = data_t.groupby('id', as_index=False).first()\n",
    "data_t_sta = data_t_sta.loc[:, ['id', 'Dat_Flg1_Cd']]\n",
    "data_t_sta.rename(columns={'Dat_Flg1_Cd':'First_Trans_Flg1'}, inplace=True)\n",
    "data = pd.merge(data, data_t_sta, on='id', how='left')\n",
    "data['First_Trans_Flg1'] = data['First_Trans_Flg1'].fillna('-1')"
   ]
  },
  {
   "cell_type": "code",
   "execution_count": null,
   "metadata": {},
   "outputs": [],
   "source": [
    "#支出最常用时间段\n",
    "data_t_sta = data_t[data_t['Dat_Flg1_Cd']=='B']\n",
    "data_t_sta = data_t_sta.groupby(['id', 'trx_hour'], as_index=False).count()\n",
    "data_t_sta = data_t_sta.sort_values('flag', ascending=False)\n",
    "data_t_sta = data_t_sta.groupby('id', as_index=False).first()\n",
    "data_t_sta = data_t_sta.loc[:, ['id', 'trx_hour']]\n",
    "data_t_sta.rename(columns={'trx_hour':'Mos_Pay_Hour'}, inplace=True)\n",
    "data = pd.merge(data, data_t_sta, on='id', how='left')\n",
    "data['Mos_Pay_Hour'] = data['Mos_Pay_Hour'].fillna('-1')"
   ]
  },
  {
   "cell_type": "code",
   "execution_count": null,
   "metadata": {},
   "outputs": [],
   "source": [
    "#收入最常用时间段\n",
    "data_t_sta = data_t[data_t['Dat_Flg1_Cd']=='C']\n",
    "data_t_sta = data_t_sta.groupby(['id', 'trx_hour'], as_index=False).count()\n",
    "data_t_sta = data_t_sta.sort_values('flag', ascending=False)\n",
    "data_t_sta = data_t_sta.groupby('id', as_index=False).first()\n",
    "data_t_sta = data_t_sta.loc[:, ['id', 'trx_hour']]\n",
    "data_t_sta.rename(columns={'trx_hour':'Mos_Inc_Hour'}, inplace=True)\n",
    "data = pd.merge(data, data_t_sta, on='id', how='left')\n",
    "data['Mos_Inc_Hour'] = data['Mos_Inc_Hour'].fillna('-1')"
   ]
  },
  {
   "cell_type": "markdown",
   "metadata": {},
   "source": [
    "### APP表"
   ]
  },
  {
   "cell_type": "code",
   "execution_count": null,
   "metadata": {},
   "outputs": [],
   "source": [
    "# app访问次数\n",
    "data_b_sta = data_b.groupby('id', as_index=False).count()\n",
    "data_b_sta = data_b_sta.loc[:, ['id', 'page_no']]\n",
    "data_b_sta.rename(columns={'page_no':'Vis_cou'}, inplace = True)\n",
    "data = pd.merge(data, data_b_sta, on='id', how='left')\n",
    "data['Vis_cou'] = data['Vis_cou'].fillna(0)"
   ]
  },
  {
   "cell_type": "code",
   "execution_count": null,
   "metadata": {
    "scrolled": true
   },
   "outputs": [],
   "source": [
    "#最常访问页面\n",
    "data_b_sta = data_b.groupby(['id', 'page_no'], as_index=False).count()\n",
    "data_b_sta = data_b_sta.sort_values('flag', ascending=False)\n",
    "data_b_sta = data_b_sta.groupby('id').first().reset_index()\n",
    "data_b_sta = data_b_sta.loc[:, ['id', 'page_no']]\n",
    "data_b_sta.rename(columns={'page_no':'Mos_Vis_Pag'}, inplace=True)\n",
    "data = pd.merge(data, data_b_sta, on='id', how='left')\n",
    "data['Mos_Vis_Pag'] = data['Mos_Vis_Pag'].fillna('-1')"
   ]
  },
  {
   "cell_type": "code",
   "execution_count": null,
   "metadata": {},
   "outputs": [],
   "source": [
    "#访问页面数量\n",
    "data_b_sta = data_b.groupby(['id', 'page_no'], as_index=False).count()\n",
    "data_b_sta = data_b_sta.groupby('id', as_index=False).count()\n",
    "data_b_sta = data_b_sta.loc[:, ['id','page_no']]\n",
    "data_b_sta.rename(columns={'page_no':'Num_Pag_Vis'}, inplace=True)\n",
    "data = pd.merge(data, data_b_sta, on='id', how='left')\n",
    "data['Num_Pag_Vis'] = data['Num_Pag_Vis'].fillna(0)"
   ]
  },
  {
   "cell_type": "code",
   "execution_count": null,
   "metadata": {},
   "outputs": [],
   "source": [
    "#平均访问间隔\n",
    "def function(a,b,c):\n",
    "    return (a-b)/c\n",
    "\n",
    "data_b.sort_values('page_tm', ascending=True, inplace=True)\n",
    "firstTime = data_b.groupby('id', as_index=False).first()\n",
    "firstTime = firstTime.loc[:, ['id', 'page_tm']]\n",
    "firstTime.rename(columns={'page_tm':'Fir_Tim'}, inplace=True)\n",
    "data_b.sort_values('page_tm', ascending=False, inplace=True)\n",
    "lastTime = data_b.groupby('id', as_index=False).first()\n",
    "lastTime = lastTime.loc[:, ['id', 'page_tm']]\n",
    "lastTime.rename(columns={'page_tm':'Las_Tim'}, inplace=True)\n",
    "\n",
    "data_b_sta = data_b.groupby('id', as_index=False).count()\n",
    "data_b_sta = pd.merge(data_b_sta, firstTime, on='id', how='left')\n",
    "data_b_sta = pd.merge(data_b_sta, lastTime, on='id', how='left')\n",
    "data_b_sta['Ave_Vis_Int'] = data_b_sta.apply(lambda x:function(x['Las_Tim'], x['Fir_Tim'], x['flag']), axis=1)\n",
    "data_b_sta = data_b_sta.loc[:, ['id', 'Ave_Vis_Int']]\n",
    "data_b_sta['Ave_Vis_Int'] = data_b_sta['Ave_Vis_Int'].astype('timedelta64[h]').astype(int)\n",
    "data_b_sta.loc[data_b_sta['Ave_Vis_Int']<=0, 'Ave_Vis_Int'] = -1\n",
    "data = pd.merge(data, data_b_sta, on='id', how='left')\n",
    "data['Ave_Vis_Int'] = data['Ave_Vis_Int'].fillna(-1)"
   ]
  },
  {
   "cell_type": "code",
   "execution_count": null,
   "metadata": {},
   "outputs": [],
   "source": [
    "#常访问app时段\n",
    "data_b_sta = data_b.groupby(['id', 'page_hour'], as_index=False).count()\n",
    "data_b_sta = data_b_sta.sort_values('flag', ascending=False)\n",
    "data_b_sta = data_b_sta.groupby('id').first().reset_index()\n",
    "data_b_sta = data_b_sta.loc[:, ['id', 'page_hour']]\n",
    "data_b_sta.rename(columns={'page_hour':'Mos_Vis_Hour'}, inplace=True)\n",
    "data = pd.merge(data, data_b_sta, on='id', how='left')\n",
    "data['Mos_Vis_Hour'] = data['Mos_Vis_Hour'].fillna('-1')"
   ]
  },
  {
   "cell_type": "code",
   "execution_count": null,
   "metadata": {},
   "outputs": [],
   "source": [
    "#单日最高访问量\n",
    "data_b_sta = data_b.groupby(['id', 'page_day'], as_index=False).count()\n",
    "data_b_sta = data_b_sta.groupby('id', as_index=False)['flag'].max()\n",
    "data_b_sta.rename(columns={'flag':'Max_Vis_Num'}, inplace=True)\n",
    "data = pd.merge(data, data_b_sta, on='id', how='left')\n",
    "data['Max_Vis_Num'] = data['Max_Vis_Num'].fillna(0)                                             "
   ]
  },
  {
   "cell_type": "code",
   "execution_count": null,
   "metadata": {},
   "outputs": [],
   "source": [
    "#平均日访问量\n",
    "data_b_sta = data_b.groupby('id', as_index=False).count()\n",
    "tmp = data_b.groupby(['id', 'page_day'], as_index=False).count()\n",
    "tmp = tmp.groupby('id', as_index=False)['page_day'].count()\n",
    "tmp.rename(columns={'page_day':'num_day'}, inplace = True)\n",
    "data_b_sta = pd.merge(data_b_sta, tmp, on='id', how='left')\n",
    "data_b_sta['Ave_Vis_Num'] = data_b_sta.apply(lambda x:x['flag']/x['num_day'], axis=1)\n",
    "data_b_sta = data_b_sta.loc[:, ['id', 'Ave_Vis_Num']]\n",
    "data = pd.merge(data, data_b_sta, on='id', how='left')\n",
    "data['Ave_Vis_Num'] = data['Ave_Vis_Num'].fillna(0)  "
   ]
  },
  {
   "cell_type": "code",
   "execution_count": null,
   "metadata": {},
   "outputs": [],
   "source": [
    "#用户最后一次访问APP的页面/时间\n",
    "data_b.sort_values('page_tm', ascending=False, inplace=True)\n",
    "data_b_sta = data_b.groupby('id', as_index=False).first()\n",
    "data_b_sta = data_b_sta.loc[:, ['id', 'page_no', 'page_tm']]\n",
    "data_b_sta.rename(columns={'page_no':'Last_Vis_no', 'page_tm':'Last_Vis_Time'}, inplace=True)\n",
    "data_b_sta['Last_Vis_Time'] = pd.to_numeric(data_b_sta['Last_Vis_Time'])\n",
    "data = pd.merge(data, data_b_sta, on='id', how='left')\n",
    "data['Last_Vis_no'] = data['Last_Vis_no'].fillna('-1')\n",
    "data['Last_Vis_Time'] = data['Last_Vis_Time'].fillna(-1)"
   ]
  },
  {
   "cell_type": "code",
   "execution_count": null,
   "metadata": {},
   "outputs": [],
   "source": [
    "#用户第一次访问APP的页面/时间\n",
    "data_b.sort_values('page_tm', ascending=True, inplace=True)\n",
    "data_b_sta = data_b.groupby('id', as_index=False).first()\n",
    "data_b_sta = data_b_sta.loc[:, ['id', 'page_no', 'page_tm']]\n",
    "data_b_sta.rename(columns={'page_no':'First_Vis_no', 'page_tm':'First_Vis_Time'}, inplace=True)\n",
    "data_b_sta['First_Vis_Time'] = pd.to_numeric(data_b_sta['First_Vis_Time'])\n",
    "data = pd.merge(data, data_b_sta, on='id', how='left')\n",
    "data['First_Vis_no'] = data['First_Vis_no'].fillna('-1')\n",
    "data['First_Vis_Time'] = data['First_Vis_Time'].fillna(-1)"
   ]
  },
  {
   "cell_type": "code",
   "execution_count": null,
   "metadata": {},
   "outputs": [],
   "source": [
    "normal_feature = ['cur_debit_cnt', 'cur_credit_cnt', 'cur_debit_min_opn_dt_cnt', 'cur_credit_min_opn_dt_cnt', 'age',\n",
    "                  'job_year', 'frs_agn_dt_cnt', 'Max_Pay_Amo_B', 'Min_Pay_Amo_B', 'Mean_Pay_Amo_B',\n",
    "                  'Var_Pay_Amo_B', 'Pay_Cou_B', 'Med_Pay_Amo_B', 'Max_Pay_Amo_C', 'Min_Pay_Amo_C',\n",
    "                  'Mean_Pay_Amo_C', 'Var_Pay_Amo_C', 'Pay_Cou_C', 'Med_Pay_Amo_C', 'Num_Tran_Day_B',\n",
    "                  'Num_Tran_Day_C',  'Res_Aset', 'Tim_Dif', 'Ave_Inc_Int', 'Ave_Pay_Int',\n",
    "                  \n",
    "                  'Max_Trx_Cod2_Cd_B', 'Max_Trx_Cod2_Cd_C','Min_Trx_Cod2_Cd_B', 'Vis_cou', 'Max_Vis_Num',\n",
    "                  'Min_Trx_Cod2_Cd_C', 'Num_Pag_Vis','Ave_Vis_Int',  'Ave_Vis_Num', 'Last_Pay_Time',\n",
    "                  'Last_Pay_Amt', 'Last_Pay_Cod2', 'First_Pay_Time', 'First_Pay_Amt', 'First_Pay_Cod2',\n",
    "                  'Last_Inc_Time','Last_Inc_Amt','Last_Inc_Cod2', 'First_Inc_Time', 'First_Inc_Cod2',\n",
    "                  'Last_Vis_Time', 'First_Vis_Time', 'Num_Trans_Flg3_A', 'Num_Trans_Flg3_B', 'Num_Trans_Flg3_C',\n",
    "                  \n",
    "                  'Num_Inc_Flg3_A', 'Num_Inc_Flg3_B', 'Num_Inc_Flg3_C', 'Num_Pay_Flg3_A', 'Num_Pay_Flg3_B',\n",
    "                  'Num_Pay_Flg3_C', 'First_Trans_Cod2_A', 'First_Trans_Time_A', 'First_Trans_Amt_A', 'First_Trans_Cod2_B',\n",
    "                  'First_Trans_Time_B', 'First_Trans_Amt_B', 'First_Trans_Cod2_C', 'First_Trans_Time_C', 'First_Trans_Amt_C',\n",
    "                  'First_Inc_Cod2_A', 'First_Inc_Time_A', 'First_Inc_Amt_A', 'First_Inc_Cod2_B', 'First_Inc_Time_B',\n",
    "                  'First_Inc_Amt_B', 'First_Inc_Cod2_C', 'First_Inc_Time_C', 'First_Inc_Amt_C', 'First_Pay_Cod2_A',\n",
    "                  \n",
    "                  'First_Pay_Time_A', 'First_Pay_Amt_A', 'First_Pay_Cod2_B', 'First_Pay_Time_B', 'First_Pay_Amt_B',\n",
    "                  'First_Pay_Cod2_C', 'First_Pay_Time_C', 'First_Pay_Amt_C', 'Last_Trans_Cod2_A', 'Last_Trans_Time_A',\n",
    "                  'Last_Trans_Amt_A', 'Last_Trans_Cod2_B', 'Last_Trans_Time_B', 'Last_Trans_Amt_B', 'Last_Trans_Cod2_C',\n",
    "                  'Last_Trans_Time_C', 'Last_Trans_Amt_C', 'Last_Inc_Cod2_A', 'Last_Inc_Time_A', 'Last_Inc_Amt_A',\n",
    "                  'Last_Inc_Cod2_B', 'Last_Inc_Time_B', 'Last_Inc_Amt_B', 'Last_Inc_Cod2_C', 'Last_Inc_Time_C',\n",
    "                  \n",
    "                  'Last_Inc_Amt_C', 'Last_Pay_Cod2_A', 'Last_Pay_Time_A', 'Last_Pay_Amt_A', 'Last_Pay_Cod2_B',\n",
    "                  'Last_Pay_Time_B', 'Last_Pay_Amt_B', 'Last_Pay_Cod2_C', 'Last_Pay_Time_C', 'Last_Pay_Amt_C',\n",
    "                  'Prop_Trans_Flg3_A', 'Prop_Trans_Flg3_B', 'Prop_Trans_Flg3_C', 'Prop_Inc_Flg3_A', 'Prop_Inc_Flg3_B',\n",
    "                  'Prop_Inc_Flg3_C', 'Prop_Pay_Flg3_A', 'Prop_Pay_Flg3_B', 'Prop_Pay_Flg3_C'] \n",
    "\n",
    "one_hot_feature = ['cur_debit_crd_lvl', 'hld_crd_card_grd_cd', 'crd_card_act_ind', 'l1y_crd_card_csm_amt_dlm_cd', 'atdd_type', \n",
    "                   'perm_crd_lmt_cd', 'gdr_cd', 'mrg_situ_cd', 'ic_ind', 'fr_or_sh_ind', \n",
    "                   'dnl_mbl_bnk_ind', 'dnl_bind_cmb_lif_ind', 'hav_car_grp_ind', 'hav_hou_grp_ind', 'l6mon_agn_ind', \n",
    "                   'vld_rsk_ases_ind', 'fin_rsk_ases_grd_cd', 'confirm_rsk_ases_lvl_typ_cd', 'cust_inv_rsk_endu_lvl_cd', 'l6mon_daim_aum_cd', \n",
    "                   'tot_ast_lvl_cd', 'pot_ast_lvl_cd', 'bk1_cur_year_mon_avg_agn_amt_cd', 'loan_act_ind', 'pl_crd_lmt_cd', \n",
    "                   'Fre_Trans_Flg3', 'Fre_Trx_Cod1_Cd_B', 'Fre_Trx_Cod1_Cd_C', 'Mos_Vis_Pag', 'Mos_Vis_Hour', \n",
    "                   'Pay_Amo_B', 'Pay_Amo_C', 'Last_Pay_Cod1', 'Last_Pay_Flg3', 'First_Pay_Cod1',\n",
    "                   'First_Pay_Flg3', 'Last_Inc_Cod1', 'Last_Inc_Flg3', 'First_Inc_Cod1', 'First_Inc_Flg3',\n",
    "                   'Last_Trans_Flg1', 'First_Trans_Flg1', 'Last_Vis_no', 'First_Vis_no', 'First_Inc_Amt', #'Last_Inc_Amt',#!!!\n",
    "                  'Fre_Inc_Flg3', 'Fre_Pay_Flg3', 'Mos_Inc_Hour', 'Mos_Pay_Hour', 'First_Trans_Cod1_A',\n",
    "                   'First_Trans_Flg1_A', 'First_Trans_Cod1_B', 'First_Trans_Flg1_B', 'First_Trans_Cod1_C', 'First_Trans_Flg1_C',\n",
    "                   'First_Inc_Cod1_A', 'First_Inc_Cod1_B', 'First_Inc_Cod1_C', 'First_Pay_Cod1_A', 'First_Pay_Cod1_B',\n",
    "                   'First_Pay_Cod1_C', 'Last_Trans_Cod1_A', 'Last_Trans_Flg1_A', 'Last_Trans_Cod1_B', 'Last_Trans_Flg1_B',\n",
    "                   'Last_Trans_Cod1_C', 'Last_Trans_Flg1_C', 'Last_Inc_Cod1_A', 'Last_Inc_Cod1_B', 'Last_Inc_Cod1_C',\n",
    "                   'Last_Pay_Cod1_A', 'Last_Pay_Cod1_B', 'Last_Pay_Cod1_C']"
   ]
  },
  {
   "cell_type": "code",
   "execution_count": null,
   "metadata": {},
   "outputs": [],
   "source": [
    "new_append = data.iloc[0, :]\n",
    "new_append['id'] = '10000'\n",
    "new_append['flag'] = -2\n",
    "data = data.append(new_append).reset_index()"
   ]
  },
  {
   "cell_type": "code",
   "execution_count": null,
   "metadata": {},
   "outputs": [],
   "source": [
    "data.loc[(data['cur_credit_cnt']==0), 'hld_crd_card_grd_cd'] = '0'\n",
    "data.loc[(data['hld_crd_card_grd_cd']=='\\N'), 'hld_crd_card_grd_cd'] = '-1'"
   ]
  },
  {
   "cell_type": "code",
   "execution_count": null,
   "metadata": {},
   "outputs": [],
   "source": [
    "data.loc[(data['flag']==-2), 'Mos_Vis_Pag'] = 'FLS', \n",
    "data['fin_rsk_ases_grd_cd'] = data['fin_rsk_ases_grd_cd'].apply(lambda x:'-1' if x=='10' else x)"
   ]
  },
  {
   "cell_type": "code",
   "execution_count": null,
   "metadata": {
    "scrolled": true
   },
   "outputs": [],
   "source": [
    "for feature in one_hot_feature:\n",
    "    print feature\n",
    "    try:\n",
    "        data[feature] = LabelEncoder().fit_transform(data[feature].apply(int))\n",
    "    except:\n",
    "        data[feature] = LabelEncoder().fit_transform(data[feature])"
   ]
  },
  {
   "cell_type": "code",
   "execution_count": null,
   "metadata": {},
   "outputs": [],
   "source": [
    "for feature in normal_feature:\n",
    "    data[feature] = data[feature].apply(lambda x:'-1' if x=='\\N' else x)"
   ]
  },
  {
   "cell_type": "code",
   "execution_count": null,
   "metadata": {},
   "outputs": [],
   "source": [
    "data = data.drop('index', axis=1)"
   ]
  },
  {
   "cell_type": "code",
   "execution_count": null,
   "metadata": {},
   "outputs": [],
   "source": [
    "train = data[data.flag!=-1]\n",
    "train = train[train.flag!=-2]\n",
    "train_y = train.pop('flag')\n",
    "\n",
    "train, val, train_y, val_y = train_test_split(train, train_y, test_size=0.2, random_state=2020)\n",
    "\n",
    "test = data[data.flag==-1]\n",
    "res = test[['id']]\n",
    "test = test.drop('flag',axis=1)\n",
    "enc = OneHotEncoder()"
   ]
  },
  {
   "cell_type": "code",
   "execution_count": null,
   "metadata": {
    "scrolled": true
   },
   "outputs": [],
   "source": [
    "train_x = train[normal_feature]\n",
    "val_x = val[normal_feature]\n",
    "test_x = test[normal_feature]\n",
    "\n",
    "for feature in one_hot_feature:\n",
    "    print feature\n",
    "    enc.fit(data[feature].values.reshape(-1, 1))\n",
    "    train_a = enc.transform(train[feature].values.reshape(-1, 1))\n",
    "    val_a = enc.transform(val[feature].values.reshape(-1, 1))\n",
    "    test_a = enc.transform(test[feature].values.reshape(-1, 1))\n",
    "    train_x = sparse.hstack((train_x.astype(float), train_a))\n",
    "    val_x = sparse.hstack((val_x.astype(float), val_a))\n",
    "    test_x = sparse.hstack((test_x.astype(float), test_a))\n",
    "print('one-hot prepared !')"
   ]
  },
  {
   "cell_type": "code",
   "execution_count": null,
   "metadata": {
    "scrolled": true
   },
   "outputs": [],
   "source": [
    "print(\"LGB test\")\n",
    "clf = lgb.LGBMClassifier(\n",
    "    boosting_type='gbdt', num_leaves=10, reg_alpha=2, reg_lambda=2,\n",
    "    max_depth=-1, n_estimators=1500, objective='binary',\n",
    "    subsample=0.7, colsample_bytree=0.7, subsample_freq=1,\n",
    "    learning_rate=0.05, min_child_weight=20, random_state=2020, n_jobs=100\n",
    ")\n",
    "clf.fit(train_x, train_y, eval_set=[(val_x, val_y)], eval_metric='auc',early_stopping_rounds=50)"
   ]
  },
  {
   "cell_type": "code",
   "execution_count": null,
   "metadata": {},
   "outputs": [],
   "source": [
    "feature_importance = clf.feature_importances_\n",
    "fea = pd.DataFrame()\n",
    "s_list = [i for i in range(len(feature_importance))]\n",
    "fea['select_list'] = s_list\n",
    "fea['value'] = feature_importance\n",
    "\n",
    "fea1 = fea.iloc[:119,:]\n",
    "print fea1.loc[fea1['value']>0]['select_list'].count() #171\n",
    "\n",
    "fea = fea[fea['value']==0]\n",
    "s_list = list(fea['select_list'])\n",
    "print len(s_list)"
   ]
  },
  {
   "cell_type": "code",
   "execution_count": null,
   "metadata": {},
   "outputs": [],
   "source": [
    "train_rs = train_x.toarray()\n",
    "val_rs = val_x.toarray()\n",
    "test_rs = test_x.toarray()\n",
    "print train_rs.shape\n",
    "print val_rs.shape\n",
    "print test_rs.shape\n",
    "for i in range(len(s_list)-1, -1, -1):\n",
    "    train_rs = np.delete(train_rs, s_list[i], axis = 1)\n",
    "    val_rs = np.delete(val_rs, s_list[i], axis = 1)\n",
    "    test_rs = np.delete(test_rs, s_list[i], axis = 1)\n",
    "print train_rs.shape\n",
    "print val_rs.shape\n",
    "print test_rs.shape"
   ]
  },
  {
   "cell_type": "code",
   "execution_count": null,
   "metadata": {
    "scrolled": true
   },
   "outputs": [],
   "source": [
    "print(\"LGB test\")\n",
    "clf_rs = lgb.LGBMClassifier(\n",
    "    boosting_type='gbdt', num_leaves=10, reg_alpha=2, reg_lambda=2,\n",
    "    max_depth=-1, n_estimators=1500, objective='binary',\n",
    "    subsample=0.7, colsample_bytree=0.7, subsample_freq=1,\n",
    "    learning_rate=0.05, min_child_weight=20, random_state=2020, n_jobs=100\n",
    ")\n",
    "clf_rs.fit(train_rs, train_y, eval_set=[(val_rs, val_y)], eval_metric='auc',early_stopping_rounds=50)"
   ]
  },
  {
   "cell_type": "code",
   "execution_count": null,
   "metadata": {},
   "outputs": [],
   "source": [
    "feature_importance = clf_rs.feature_importances_\n",
    "print len(feature_importance)\n",
    "\n",
    "fea = pd.DataFrame()\n",
    "fea['feature_index'] = [i for i in range(110)]\n",
    "fea['value'] = feature_importance[:110]\n",
    "new_feature = fea.loc[fea['value']<=30]\n",
    "new_feature = list(new_feature['feature_index'])\n",
    "print len(new_feature)"
   ]
  },
  {
   "cell_type": "code",
   "execution_count": null,
   "metadata": {},
   "outputs": [],
   "source": [
    "train_imp = train_rs[:,:110]\n",
    "val_imp = val_rs[:,:110]\n",
    "test_imp = test_rs[:,:110]\n",
    "print train_imp.shape\n",
    "print val_imp.shape\n",
    "print test_imp.shape\n",
    "for i in range(len(new_feature)-1, -1, -1):\n",
    "    train_imp = np.delete(train_imp, new_feature[i], axis = 1)\n",
    "    val_imp = np.delete(val_imp, new_feature[i], axis = 1)\n",
    "    test_imp = np.delete(test_imp, new_feature[i], axis = 1)\n",
    "print train_imp.shape\n",
    "print val_imp.shape\n",
    "print test_imp.shape"
   ]
  },
  {
   "cell_type": "code",
   "execution_count": null,
   "metadata": {},
   "outputs": [],
   "source": [
    "poly1=PolynomialFeatures()\n",
    "cross1=poly1.fit_transform(train_imp)\n",
    "cross2=poly1.fit_transform(val_imp)\n",
    "cross3=poly1.fit_transform(test_imp)\n",
    "print (cross1.shape)\n",
    "print (cross2.shape)\n",
    "print (cross3.shape)"
   ]
  },
  {
   "cell_type": "code",
   "execution_count": null,
   "metadata": {},
   "outputs": [],
   "source": [
    "train_cro = np.concatenate((train_rs, cross1),axis=1)\n",
    "val_cro = np.concatenate((val_rs, cross2), axis=1)\n",
    "test_cro = np.concatenate((test_rs, cross3),axis =1)"
   ]
  },
  {
   "cell_type": "code",
   "execution_count": null,
   "metadata": {
    "scrolled": true
   },
   "outputs": [],
   "source": [
    "print(\"LGB test\")\n",
    "clf_cro = lgb.LGBMClassifier(\n",
    "    boosting_type='gbdt', num_leaves=10, reg_alpha=2, reg_lambda=2,\n",
    "    max_depth=-1, n_estimators=1500, objective='binary',\n",
    "    subsample=0.7, colsample_bytree=0.7, subsample_freq=1,\n",
    "    learning_rate=0.05, min_child_weight=20, random_state=2020, n_jobs=100\n",
    ")\n",
    "clf_cro.fit(train_cro, train_y, eval_set=[(val_cro, val_y)], eval_metric='auc',early_stopping_rounds=50)"
   ]
  },
  {
   "cell_type": "code",
   "execution_count": null,
   "metadata": {},
   "outputs": [],
   "source": [
    "feature_importance = clf_cro.feature_importances_\n",
    "print len(feature_importance)\n",
    "fea = pd.DataFrame()\n",
    "s_list = [i for i in range(len(feature_importance))]\n",
    "fea['select_list'] = s_list\n",
    "fea['value'] = feature_importance\n",
    "fea = fea.loc[fea['value']==0]\n",
    "s_list = list(fea['select_list'])\n",
    "print len(s_list)"
   ]
  },
  {
   "cell_type": "code",
   "execution_count": null,
   "metadata": {},
   "outputs": [],
   "source": [
    "train_last = train_cro\n",
    "val_last = val_cro\n",
    "test_last = test_cro\n",
    "print train_last.shape\n",
    "print val_last.shape\n",
    "print test_last.shape\n",
    "for i in range(len(s_list)-1, -1, -1):\n",
    "    train_last = np.delete(train_last, s_list[i], axis = 1)\n",
    "    val_last = np.delete(val_last, s_list[i], axis = 1)\n",
    "    test_last = np.delete(test_last, s_list[i], axis = 1)\n",
    "print train_last.shape\n",
    "print val_last.shape\n",
    "print test_last.shape"
   ]
  },
  {
   "cell_type": "code",
   "execution_count": null,
   "metadata": {
    "scrolled": true
   },
   "outputs": [],
   "source": [
    "print(\"LGB test\")\n",
    "clf_last = lgb.LGBMClassifier(\n",
    "    boosting_type='gbdt', num_leaves=10, reg_alpha=2, reg_lambda=2,\n",
    "    max_depth=-1, n_estimators=1500, objective='binary',\n",
    "    subsample=0.7, colsample_bytree=0.7, subsample_freq=1,\n",
    "    learning_rate=0.05, min_child_weight=20, random_state=2020, n_jobs=100\n",
    ")\n",
    "clf_last.fit(train_last, train_y, eval_set=[(val_last, val_y)], eval_metric='auc',early_stopping_rounds=50)"
   ]
  },
  {
   "cell_type": "code",
   "execution_count": null,
   "metadata": {},
   "outputs": [],
   "source": [
    "test_predict = clf.predict(test_x)\n",
    "test_proba = clf.predict_proba(test_x)[:,1]\n",
    "res['flag'] = test_proba\n",
    "res['predict'] = test_predict"
   ]
  },
  {
   "cell_type": "code",
   "execution_count": null,
   "metadata": {},
   "outputs": [],
   "source": [
    "res[['id', 'flag']].to_csv(path_or_buf=\"lgb.txt\" ,sep = '\\t', index=False, header=None) # 写入csv文件"
   ]
  },
  {
   "cell_type": "code",
   "execution_count": null,
   "metadata": {},
   "outputs": [],
   "source": []
  }
 ],
 "metadata": {
  "kernelspec": {
   "display_name": "Python 2",
   "language": "python",
   "name": "python2"
  },
  "language_info": {
   "codemirror_mode": {
    "name": "ipython",
    "version": 2
   },
   "file_extension": ".py",
   "mimetype": "text/x-python",
   "name": "python",
   "nbconvert_exporter": "python",
   "pygments_lexer": "ipython2",
   "version": "2.7.12"
  }
 },
 "nbformat": 4,
 "nbformat_minor": 2
}
