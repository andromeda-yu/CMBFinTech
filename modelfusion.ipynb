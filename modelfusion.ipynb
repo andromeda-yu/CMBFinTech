{
 "cells": [
  {
   "cell_type": "code",
   "execution_count": null,
   "metadata": {},
   "outputs": [],
   "source": [
    "import numpy as np\n",
    "from sklearn import metrics"
   ]
  },
  {
   "cell_type": "code",
   "execution_count": null,
   "metadata": {},
   "outputs": [],
   "source": [
    "lgbfile = 'lgb.txt'  \n",
    "xgbfile = 'xgb.txt'  \n",
    "catboostfile = 'catboost.txt'  \n",
    "\n",
    "with open(lgbfile, \"r\") as f:  \n",
    "    lgb = f.read()  \n",
    "lgb = lgb.split('\\n')\n",
    "uid = [x.split('\\t')[0] for x in lgb[:-1]]\n",
    "lgb = [float(x.split('\\t')[1]) for x in lgb[:-1]]\n",
    "\n",
    "with open(xgbfile, \"r\") as f:  \n",
    "    xgb = f.read()  \n",
    "xgb = xgb.split('\\n')\n",
    "xgb = [float(x.split('\\t')[1]) for x in xgb[:-1]]\n",
    "\n",
    "with open(catboostfile, \"r\") as f:  \n",
    "    catboost = f.read()  \n",
    "catboost = catboost.split('\\n')\n",
    "catboost = [float(x.split('\\t')[1]) for x in catboost[:-1]]\n",
    "\n",
    "print len(uid)\n",
    "print len(lgb)\n",
    "print len(xgb)\n",
    "print len(catboost)"
   ]
  },
  {
   "cell_type": "code",
   "execution_count": null,
   "metadata": {},
   "outputs": [],
   "source": [
    "lgb = np.array(lgb)\n",
    "xgb = np.array(xgb)\n",
    "catboost = np.array(catboost)"
   ]
  },
  {
   "cell_type": "code",
   "execution_count": null,
   "metadata": {},
   "outputs": [],
   "source": [
    "res = (lgb + xgb + catboost)/3\n",
    "print lgb\n",
    "print xgb\n",
    "print catboost\n",
    "res = list(res)\n",
    "print res"
   ]
  },
  {
   "cell_type": "code",
   "execution_count": null,
   "metadata": {},
   "outputs": [],
   "source": [
    "finalres = 'fusion.txt'\n",
    "\n",
    "res_string = ''\n",
    "for i in range(len(uid)):\n",
    "    res_string += uid[i]+'\\t'+str(res[i])+'\\n'\n",
    "\n",
    "with open(finalres, 'w') as f:\n",
    "    f.write(res_string)"
   ]
  },
  {
   "cell_type": "code",
   "execution_count": null,
   "metadata": {},
   "outputs": [],
   "source": []
  }
 ],
 "metadata": {
  "kernelspec": {
   "display_name": "Python 2",
   "language": "python",
   "name": "python2"
  },
  "language_info": {
   "codemirror_mode": {
    "name": "ipython",
    "version": 2
   },
   "file_extension": ".py",
   "mimetype": "text/x-python",
   "name": "python",
   "nbconvert_exporter": "python",
   "pygments_lexer": "ipython2",
   "version": "2.7.12"
  }
 },
 "nbformat": 4,
 "nbformat_minor": 2
}
